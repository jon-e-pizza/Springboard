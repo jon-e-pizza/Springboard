{
 "cells": [
  {
   "cell_type": "markdown",
   "metadata": {},
   "source": [
    "## Learning\n",
    "After an initial exploratory analysis of variables that could relate to success of fast food establishments in an area, we will now use machine learning techniques to see if we can extract additional insights about what areas we should pay attention to and what features we should prioritize."
   ]
  },
  {
   "cell_type": "code",
   "execution_count": 2,
   "metadata": {},
   "outputs": [],
   "source": [
    "# required imports for our analysis\n",
    "import matplotlib.pyplot as plt\n",
    "import numpy as np\n",
    "import pandas as pd\n",
    "\n",
    "# load our summary dataset on fast food establishments in Philadelphia\n",
    "ff_cbg_data = pd.read_csv('location_data_wrangled.csv', index_col=0)\n",
    "\n",
    "# And begin by filtering to CBGS with fast food consumer observations\n",
    "ff_cbg_data = ff_cbg_data[ff_cbg_data['Fast Food Count'] != 0]"
   ]
  },
  {
   "cell_type": "code",
   "execution_count": 3,
   "metadata": {
    "scrolled": true
   },
   "outputs": [
    {
     "data": {
      "text/plain": [
       "Index(['Total Population', 'Pop. that Works from Home',\n",
       "       'Single Occupant Households', 'Single Parent Households',\n",
       "       'Married Parent Households', 'Undergrads and Grads',\n",
       "       'Diploma/GED attained', 'Degree attained', 'Households in Poverty',\n",
       "       'Below 40k Earners', '40k-100k Earners', 'Above 100k Earners',\n",
       "       'Unemployed', 'Renter Occupied Households', 'Owner Occupied Households',\n",
       "       'Crime Counts', 'walk_score', 'transit_score', 'Fast Food Count',\n",
       "       'Fast Food Consumers', 'raw_visit_count'],\n",
       "      dtype='object')"
      ]
     },
     "execution_count": 3,
     "metadata": {},
     "output_type": "execute_result"
    }
   ],
   "source": [
    "# Our features\n",
    "ff_cbg_data.columns"
   ]
  },
  {
   "cell_type": "markdown",
   "metadata": {},
   "source": [
    "We need to distinguish what sets an area apart as a particularly successful area. Lets check the distribution of consumers:"
   ]
  },
  {
   "cell_type": "code",
   "execution_count": 4,
   "metadata": {},
   "outputs": [
    {
     "data": {
      "text/plain": [
       "(array([67., 56., 23., 10.,  5.,  5.,  7.,  1.,  3.,  2.,  0.,  1.,  0.,\n",
       "         0.,  1.,  0.,  0.,  1.,  1.,  0.,  1.,  0.,  0.,  0.,  0.,  0.,\n",
       "         1.,  0.,  0.,  2.]),\n",
       " array([6.00000e+00, 4.18500e+02, 8.31000e+02, 1.24350e+03, 1.65600e+03,\n",
       "        2.06850e+03, 2.48100e+03, 2.89350e+03, 3.30600e+03, 3.71850e+03,\n",
       "        4.13100e+03, 4.54350e+03, 4.95600e+03, 5.36850e+03, 5.78100e+03,\n",
       "        6.19350e+03, 6.60600e+03, 7.01850e+03, 7.43100e+03, 7.84350e+03,\n",
       "        8.25600e+03, 8.66850e+03, 9.08100e+03, 9.49350e+03, 9.90600e+03,\n",
       "        1.03185e+04, 1.07310e+04, 1.11435e+04, 1.15560e+04, 1.19685e+04,\n",
       "        1.23810e+04]),\n",
       " <a list of 30 Patch objects>)"
      ]
     },
     "execution_count": 4,
     "metadata": {},
     "output_type": "execute_result"
    },
    {
     "data": {
      "image/png": "[encoded data removed]",
      "text/plain": [
       "<Figure size 432x288 with 1 Axes>"
      ]
     },
     "metadata": {
      "needs_background": "light"
     },
     "output_type": "display_data"
    }
   ],
   "source": [
    "plt.hist(ff_cbg_data['Fast Food Consumers'], bins=30)"
   ]
  },
  {
   "cell_type": "code",
   "execution_count": 5,
   "metadata": {
    "scrolled": true
   },
   "outputs": [],
   "source": [
    "# We see that the bulk of restaurants fall before 2000, and\n",
    "# that anything in the bucket from 1656 on is in appears to perform in\n",
    "# excess of the average location\n",
    "ff_cbg_data['Successful Location'] =\\\n",
    "    ff_cbg_data['Fast Food Consumers'] >= 1656"
   ]
  },
  {
   "cell_type": "code",
   "execution_count": 6,
   "metadata": {},
   "outputs": [],
   "source": [
    "# Finally seperate features and output, to begin remove our potential\n",
    "# output columns, and input.\n",
    "output_variables = ff_cbg_data[[\n",
    "    'Fast Food Count', 'Fast Food Consumers', 'Successful Location']].copy()\n",
    "\n",
    "input_variables = ff_cbg_data.copy()\n",
    "del input_variables['Fast Food Count']\n",
    "del input_variables['Fast Food Consumers']\n",
    "del input_variables['Successful Location']"
   ]
  },
  {
   "cell_type": "code",
   "execution_count": 7,
   "metadata": {},
   "outputs": [],
   "source": [
    "# And then split out testing data for later verification\n",
    "from sklearn.model_selection import train_test_split\n",
    "\n",
    "x_train, x_test, y_train, y_test = train_test_split(\n",
    "    input_variables, output_variables, test_size=0.2,\n",
    "    stratify=output_variables['Successful Location'],\n",
    "    random_state=42)"
   ]
  },
  {
   "cell_type": "code",
   "execution_count": 8,
   "metadata": {},
   "outputs": [],
   "source": [
    "# And as many machine learning alogorithms perform better with scaled\n",
    "# data we'll prepare a scaled data set\n",
    "from sklearn.preprocessing import StandardScaler\n",
    "\n",
    "df_columns = x_train.columns\n",
    "\n",
    "ss = StandardScaler().fit(x_train)\n",
    "\n",
    "train_data_scaled = ss.transform(x_train)\n",
    "train_data_scaled = pd.DataFrame(train_data_scaled)\n",
    "train_data_scaled.columns = df_columns\n",
    "x_train_scaled = train_data_scaled.copy()\n",
    "\n",
    "test_data_scaled = ss.transform(x_test)\n",
    "test_data_scaled = pd.DataFrame(test_data_scaled)\n",
    "test_data_scaled.columns = df_columns\n",
    "x_test_scaled = test_data_scaled.copy()"
   ]
  },
  {
   "cell_type": "markdown",
   "metadata": {},
   "source": [
    "### Regression\n",
    "We'll start by treating this as a regression problem on total of fast food traffic, and use cost functions to identify the most important features in predicting count of consumers in an area. Then using those identified variables we'll move on to classification to see what accuracy we can achieve in predicting if an area is a 'successful' one."
   ]
  },
  {
   "cell_type": "code",
   "execution_count": 9,
   "metadata": {},
   "outputs": [
    {
     "name": "stderr",
     "output_type": "stream",
     "text": [
      "/home/jon-e-pizza/anaconda3/lib/python3.7/site-packages/sklearn/model_selection/_search.py:814: DeprecationWarning: The default of the `iid` parameter will change from True to False in version 0.22 and will be removed in 0.24. This will change numeric results when test-set sizes are unequal.\n",
      "  DeprecationWarning)\n"
     ]
    },
    {
     "data": {
      "text/plain": [
       "{'mean_fit_time': array([0.00185289, 0.0020792 , 0.00182285, 0.00160866, 0.00157766,\n",
       "        0.00155497, 0.00156608]),\n",
       " 'std_fit_time': array([2.70290448e-04, 7.68751853e-04, 1.17482806e-04, 7.94819604e-05,\n",
       "        2.32764922e-05, 5.49708663e-06, 1.44864353e-05]),\n",
       " 'mean_score_time': array([0.00083146, 0.001089  , 0.00098739, 0.00080481, 0.00081468,\n",
       "        0.00082169, 0.00080647]),\n",
       " 'std_score_time': array([2.81299977e-05, 3.90556751e-04, 1.98825806e-04, 1.26146637e-05,\n",
       "        1.55166357e-05, 4.54955128e-05, 1.14456811e-05]),\n",
       " 'param_alpha': masked_array(data=[0.001, 0.01, 1, 10, 100, 1000, 10000],\n",
       "              mask=[False, False, False, False, False, False, False],\n",
       "        fill_value='?',\n",
       "             dtype=object),\n",
       " 'params': [{'alpha': 0.001},\n",
       "  {'alpha': 0.01},\n",
       "  {'alpha': 1},\n",
       "  {'alpha': 10},\n",
       "  {'alpha': 100},\n",
       "  {'alpha': 1000},\n",
       "  {'alpha': 10000}],\n",
       " 'split0_test_score': array([-0.57093007, -0.57074707, -0.55130664, -0.42021925, -0.07062769,\n",
       "        -0.0357034 , -0.2298275 ]),\n",
       " 'split1_test_score': array([-2.41589225, -2.41308567, -2.15691565, -1.27714385, -0.09219865,\n",
       "         0.02045937, -0.3013425 ]),\n",
       " 'split2_test_score': array([ 0.0475538 ,  0.04760143,  0.05147428,  0.05830321,  0.04628095,\n",
       "        -0.01328329, -0.05326615]),\n",
       " 'split3_test_score': array([-3.1089155 , -3.10035203, -2.49209782, -1.61390393, -1.14333265,\n",
       "        -0.94182503, -1.02076677]),\n",
       " 'split4_test_score': array([ 0.63763357,  0.63744304,  0.61250421,  0.44665861,  0.18585835,\n",
       "        -0.03221657, -0.10072891]),\n",
       " 'mean_test_score': array([-1.093652  , -1.09135337, -0.91746814, -0.5680256 , -0.21749295,\n",
       "        -0.2016433 , -0.34280018]),\n",
       " 'std_test_score': array([1.43886373, 1.43590675, 1.21661324, 0.77798258, 0.47514598,\n",
       "        0.37217735, 0.35177272]),\n",
       " 'rank_test_score': array([7, 6, 5, 4, 2, 1, 3], dtype=int32)}"
      ]
     },
     "execution_count": 9,
     "metadata": {},
     "output_type": "execute_result"
    }
   ],
   "source": [
    "from sklearn.linear_model import Ridge\n",
    "from sklearn.model_selection import GridSearchCV\n",
    "\n",
    "ridge = Ridge(max_iter=1000000)\n",
    "parameters = {'alpha': [.001, .01, 1, 10, 100, 1000, 10000]}\n",
    "gcv = GridSearchCV(ridge, parameters, scoring='r2', cv=5)\n",
    "gcv.fit(x_train_scaled, y_train['Fast Food Consumers'])\n",
    "gcv.cv_results_"
   ]
  },
  {
   "cell_type": "markdown",
   "metadata": {},
   "source": [
    "Our scores for different splits are all over the place. We face that even normalized our dataset may not fit a linear model very well, and that we simply don't have enough data to do a 5 split cv. We will try again with a 2 split cross validation and see if our scores are more consistent."
   ]
  },
  {
   "cell_type": "code",
   "execution_count": 10,
   "metadata": {},
   "outputs": [
    {
     "name": "stderr",
     "output_type": "stream",
     "text": [
      "/home/jon-e-pizza/anaconda3/lib/python3.7/site-packages/sklearn/model_selection/_search.py:814: DeprecationWarning: The default of the `iid` parameter will change from True to False in version 0.22 and will be removed in 0.24. This will change numeric results when test-set sizes are unequal.\n",
      "  DeprecationWarning)\n"
     ]
    },
    {
     "data": {
      "text/plain": [
       "{'mean_fit_time': array([0.00228143, 0.00178874, 0.00168395, 0.00170565, 0.00172806,\n",
       "        0.00158024, 0.00199103]),\n",
       " 'std_fit_time': array([4.65631485e-04, 1.29938126e-05, 6.91413879e-06, 6.12735748e-05,\n",
       "        1.14679337e-04, 2.45571136e-05, 3.47852707e-04]),\n",
       " 'mean_score_time': array([0.00095797, 0.00093079, 0.00086749, 0.00087285, 0.00085855,\n",
       "        0.00082755, 0.00137174]),\n",
       " 'std_score_time': array([9.36985016e-05, 9.53674316e-06, 4.61339951e-05, 3.64780426e-05,\n",
       "        2.67028809e-05, 2.31266022e-05, 4.11629677e-04]),\n",
       " 'param_alpha': masked_array(data=[0.001, 0.01, 1, 10, 100, 1000, 10000],\n",
       "              mask=[False, False, False, False, False, False, False],\n",
       "        fill_value='?',\n",
       "             dtype=object),\n",
       " 'params': [{'alpha': 0.001},\n",
       "  {'alpha': 0.01},\n",
       "  {'alpha': 1},\n",
       "  {'alpha': 10},\n",
       "  {'alpha': 100},\n",
       "  {'alpha': 1000},\n",
       "  {'alpha': 10000}],\n",
       " 'split0_test_score': array([-0.32892673, -0.32824975, -0.26835534, -0.09632725,  0.10138035,\n",
       "         0.05428803, -0.01786366]),\n",
       " 'split1_test_score': array([ 0.37912781,  0.37960028,  0.38504897,  0.29249602,  0.17292964,\n",
       "         0.03380249, -0.01083795]),\n",
       " 'mean_test_score': array([ 0.02272452,  0.02329993,  0.05615419,  0.09677961,  0.1369149 ,\n",
       "         0.044114  , -0.01437438]),\n",
       " 'std_test_score': array([0.3540193 , 0.35391704, 0.3266948 , 0.19440726, 0.03577384,\n",
       "        0.01024254, 0.00351278]),\n",
       " 'rank_test_score': array([6, 5, 3, 2, 1, 4, 7], dtype=int32)}"
      ]
     },
     "execution_count": 10,
     "metadata": {},
     "output_type": "execute_result"
    }
   ],
   "source": [
    "ridge = Ridge(max_iter=1000000)\n",
    "parameters = {'alpha': [.001, .01, 1, 10, 100, 1000, 10000]}\n",
    "gcv = GridSearchCV(ridge, parameters, scoring='r2', cv=2)\n",
    "gcv.fit(x_train_scaled, y_train['Fast Food Consumers'])\n",
    "gcv.cv_results_"
   ]
  },
  {
   "cell_type": "markdown",
   "metadata": {},
   "source": [
    "Our $R^2$s seem to converge a lot better with just two folds. Lets see the coefficients for the best model:"
   ]
  },
  {
   "cell_type": "code",
   "execution_count": 11,
   "metadata": {},
   "outputs": [
    {
     "data": {
      "text/html": [
       "<div>\n",
       "<style scoped>\n",
       "    .dataframe tbody tr th:only-of-type {\n",
       "        vertical-align: middle;\n",
       "    }\n",
       "\n",
       "    .dataframe tbody tr th {\n",
       "        vertical-align: top;\n",
       "    }\n",
       "\n",
       "    .dataframe thead th {\n",
       "        text-align: right;\n",
       "    }\n",
       "</style>\n",
       "<table border=\"1\" class=\"dataframe\">\n",
       "  <thead>\n",
       "    <tr style=\"text-align: right;\">\n",
       "      <th></th>\n",
       "      <th>Variable</th>\n",
       "      <th>Coefficients</th>\n",
       "    </tr>\n",
       "  </thead>\n",
       "  <tbody>\n",
       "    <tr>\n",
       "      <td>0</td>\n",
       "      <td>Total Population</td>\n",
       "      <td>123.193747</td>\n",
       "    </tr>\n",
       "    <tr>\n",
       "      <td>1</td>\n",
       "      <td>Pop. that Works from Home</td>\n",
       "      <td>86.202973</td>\n",
       "    </tr>\n",
       "    <tr>\n",
       "      <td>2</td>\n",
       "      <td>Single Occupant Households</td>\n",
       "      <td>-5.312446</td>\n",
       "    </tr>\n",
       "    <tr>\n",
       "      <td>3</td>\n",
       "      <td>Single Parent Households</td>\n",
       "      <td>-111.949563</td>\n",
       "    </tr>\n",
       "    <tr>\n",
       "      <td>4</td>\n",
       "      <td>Married Parent Households</td>\n",
       "      <td>-35.398090</td>\n",
       "    </tr>\n",
       "    <tr>\n",
       "      <td>5</td>\n",
       "      <td>Undergrads and Grads</td>\n",
       "      <td>348.164158</td>\n",
       "    </tr>\n",
       "    <tr>\n",
       "      <td>6</td>\n",
       "      <td>Diploma/GED attained</td>\n",
       "      <td>22.274591</td>\n",
       "    </tr>\n",
       "    <tr>\n",
       "      <td>7</td>\n",
       "      <td>Degree attained</td>\n",
       "      <td>-60.861319</td>\n",
       "    </tr>\n",
       "    <tr>\n",
       "      <td>8</td>\n",
       "      <td>Households in Poverty</td>\n",
       "      <td>-59.668802</td>\n",
       "    </tr>\n",
       "    <tr>\n",
       "      <td>9</td>\n",
       "      <td>Below 40k Earners</td>\n",
       "      <td>1.176450</td>\n",
       "    </tr>\n",
       "    <tr>\n",
       "      <td>10</td>\n",
       "      <td>40k-100k Earners</td>\n",
       "      <td>-61.008121</td>\n",
       "    </tr>\n",
       "    <tr>\n",
       "      <td>11</td>\n",
       "      <td>Above 100k Earners</td>\n",
       "      <td>-72.174787</td>\n",
       "    </tr>\n",
       "    <tr>\n",
       "      <td>12</td>\n",
       "      <td>Unemployed</td>\n",
       "      <td>-8.808321</td>\n",
       "    </tr>\n",
       "    <tr>\n",
       "      <td>13</td>\n",
       "      <td>Renter Occupied Households</td>\n",
       "      <td>-22.379555</td>\n",
       "    </tr>\n",
       "    <tr>\n",
       "      <td>14</td>\n",
       "      <td>Owner Occupied Households</td>\n",
       "      <td>-65.031132</td>\n",
       "    </tr>\n",
       "    <tr>\n",
       "      <td>15</td>\n",
       "      <td>Crime Counts</td>\n",
       "      <td>166.142680</td>\n",
       "    </tr>\n",
       "    <tr>\n",
       "      <td>16</td>\n",
       "      <td>walk_score</td>\n",
       "      <td>-32.763899</td>\n",
       "    </tr>\n",
       "    <tr>\n",
       "      <td>17</td>\n",
       "      <td>transit_score</td>\n",
       "      <td>173.105947</td>\n",
       "    </tr>\n",
       "    <tr>\n",
       "      <td>18</td>\n",
       "      <td>raw_visit_count</td>\n",
       "      <td>520.813782</td>\n",
       "    </tr>\n",
       "  </tbody>\n",
       "</table>\n",
       "</div>"
      ],
      "text/plain": [
       "                      Variable  Coefficients\n",
       "0             Total Population    123.193747\n",
       "1    Pop. that Works from Home     86.202973\n",
       "2   Single Occupant Households     -5.312446\n",
       "3     Single Parent Households   -111.949563\n",
       "4    Married Parent Households    -35.398090\n",
       "5         Undergrads and Grads    348.164158\n",
       "6         Diploma/GED attained     22.274591\n",
       "7              Degree attained    -60.861319\n",
       "8        Households in Poverty    -59.668802\n",
       "9            Below 40k Earners      1.176450\n",
       "10            40k-100k Earners    -61.008121\n",
       "11          Above 100k Earners    -72.174787\n",
       "12                  Unemployed     -8.808321\n",
       "13  Renter Occupied Households    -22.379555\n",
       "14   Owner Occupied Households    -65.031132\n",
       "15                Crime Counts    166.142680\n",
       "16                  walk_score    -32.763899\n",
       "17               transit_score    173.105947\n",
       "18             raw_visit_count    520.813782"
      ]
     },
     "execution_count": 11,
     "metadata": {},
     "output_type": "execute_result"
    }
   ],
   "source": [
    "pd.DataFrame({'Variable': x_train_scaled.columns, 'Coefficients': gcv.best_estimator_.coef_})"
   ]
  },
  {
   "cell_type": "markdown",
   "metadata": {},
   "source": [
    "This model clearly emphasizes 'raw_visit_count' and 'Undergrads and Grads'. The following metrics of note are 'transit_score', and 'Crime Counts', and then a little after that 'Total Population' and 'Single Parent Households'. Lets see how linear regression on just there variables fares:"
   ]
  },
  {
   "cell_type": "code",
   "execution_count": 12,
   "metadata": {},
   "outputs": [
    {
     "name": "stdout",
     "output_type": "stream",
     "text": [
      "Model score on training data: 0.5068456980713572\n",
      "Model score on testing data: 0.5564381747231268\n"
     ]
    }
   ],
   "source": [
    "from sklearn.linear_model import LinearRegression\n",
    "\n",
    "x_train_subset = x_train[['Undergrads and Grads', 'raw_visit_count']].copy()\n",
    "x_test_subset = x_test[['Undergrads and Grads', 'raw_visit_count']].copy()\n",
    "lm = LinearRegression()\n",
    "lm.fit(x_train_subset, y_train['Fast Food Consumers'])\n",
    "tr_score = lm.score(x_train_subset, y_train['Fast Food Consumers'])\n",
    "te_score = lm.score(x_test_subset, y_test['Fast Food Consumers'])\n",
    "print('Model score on training data: {}'.format(tr_score))\n",
    "print('Model score on testing data: {}'.format(te_score))"
   ]
  },
  {
   "cell_type": "code",
   "execution_count": 13,
   "metadata": {},
   "outputs": [
    {
     "name": "stdout",
     "output_type": "stream",
     "text": [
      "Model score on training data: 0.3464531131041542\n",
      "Model score on testing data: 0.5829130153209574\n"
     ]
    }
   ],
   "source": [
    "from sklearn.linear_model import LinearRegression\n",
    "\n",
    "x_train_subset = x_train[[\n",
    "    'Total Population', 'Undergrads and Grads',\n",
    "    'transit_score', 'Crime Counts']].copy()\n",
    "x_test_subset = x_test[[\n",
    "    'Total Population', 'Undergrads and Grads',\n",
    "    'transit_score', 'Crime Counts']].copy()\n",
    "lm = LinearRegression()\n",
    "lm.fit(x_train_subset, y_train['Fast Food Consumers'])\n",
    "tr_score = lm.score(x_train_subset, y_train['Fast Food Consumers'])\n",
    "te_score = lm.score(x_test_subset, y_test['Fast Food Consumers'])\n",
    "print('Model score on training data: {}'.format(tr_score))\n",
    "print('Model score on testing data: {}'.format(te_score))"
   ]
  },
  {
   "cell_type": "code",
   "execution_count": 14,
   "metadata": {},
   "outputs": [
    {
     "name": "stdout",
     "output_type": "stream",
     "text": [
      "Model score on training data: 0.3499408952745693\n",
      "Model score on testing data: 0.5817620646400972\n"
     ]
    }
   ],
   "source": [
    "from sklearn.linear_model import LinearRegression\n",
    "\n",
    "x_train_subset = x_train[[\n",
    "    'Total Population', 'Undergrads and Grads',\n",
    "    'transit_score', 'Crime Counts', 'Total Population',\n",
    "    'Single Parent Households']].copy()\n",
    "x_test_subset = x_test[[\n",
    "    'Total Population', 'Undergrads and Grads',\n",
    "    'transit_score', 'Crime Counts', 'Total Population',\n",
    "    'Single Parent Households']].copy()\n",
    "lm = LinearRegression()\n",
    "lm.fit(x_train_subset, y_train['Fast Food Consumers'])\n",
    "tr_score = lm.score(x_train_subset, y_train['Fast Food Consumers'])\n",
    "te_score = lm.score(x_test_subset, y_test['Fast Food Consumers'])\n",
    "print('Model score on training data: {}'.format(tr_score))\n",
    "print('Model score on testing data: {}'.format(te_score))"
   ]
  },
  {
   "cell_type": "markdown",
   "metadata": {},
   "source": [
    "Of the varying levels of influence, it truly does appear a model based on just 'Undergrads and Grads' and 'raw_visit_count' performs best with $R^2$ score over .5 on both training and testing data, while the introduction of the other variables causes the model too fall noticably in performance on the training data."
   ]
  },
  {
   "cell_type": "markdown",
   "metadata": {},
   "source": [
    "For another datapoint, we try the Lasso cost function to see if the variables it emphasizes performs better."
   ]
  },
  {
   "cell_type": "code",
   "execution_count": 15,
   "metadata": {
    "scrolled": false
   },
   "outputs": [
    {
     "name": "stderr",
     "output_type": "stream",
     "text": [
      "/home/jon-e-pizza/anaconda3/lib/python3.7/site-packages/sklearn/model_selection/_search.py:814: DeprecationWarning: The default of the `iid` parameter will change from True to False in version 0.22 and will be removed in 0.24. This will change numeric results when test-set sizes are unequal.\n",
      "  DeprecationWarning)\n"
     ]
    },
    {
     "data": {
      "text/plain": [
       "{'mean_fit_time': array([1.21149743, 0.1221509 , 0.00327468, 0.00195396, 0.00160086,\n",
       "        0.00157893, 0.00156236]),\n",
       " 'std_fit_time': array([2.95332789e-01, 3.03814411e-02, 3.89575958e-04, 1.33156776e-04,\n",
       "        7.74860382e-06, 2.49147415e-05, 1.43051147e-06]),\n",
       " 'mean_score_time': array([0.00108898, 0.00084114, 0.00082064, 0.0008086 , 0.00081873,\n",
       "        0.00079632, 0.00079596]),\n",
       " 'std_score_time': array([7.74860382e-06, 1.85966492e-05, 1.04904175e-05, 1.01327896e-05,\n",
       "        2.38418579e-06, 1.43051147e-06, 3.57627869e-07]),\n",
       " 'param_alpha': masked_array(data=[0.001, 0.01, 1, 10, 100, 1000, 10000],\n",
       "              mask=[False, False, False, False, False, False, False],\n",
       "        fill_value='?',\n",
       "             dtype=object),\n",
       " 'params': [{'alpha': 0.001},\n",
       "  {'alpha': 0.01},\n",
       "  {'alpha': 1},\n",
       "  {'alpha': 10},\n",
       "  {'alpha': 100},\n",
       "  {'alpha': 1000},\n",
       "  {'alpha': 10000}],\n",
       " 'split0_test_score': array([-0.32899292, -0.32891006, -0.31961928, -0.24101115, -0.01700314,\n",
       "         0.04958837, -0.03013447]),\n",
       " 'split1_test_score': array([ 0.3790775 ,  0.37910657,  0.38447045,  0.42069581,  0.17814244,\n",
       "        -0.01749851, -0.01749851]),\n",
       " 'mean_test_score': array([ 0.02266621,  0.02272236,  0.03006287,  0.08762184,  0.0799148 ,\n",
       "         0.01627005, -0.02385889]),\n",
       " 'std_test_score': array([0.35402724, 0.35400034, 0.35203694, 0.33084603, 0.09757059,\n",
       "        0.03354268, 0.00631784]),\n",
       " 'rank_test_score': array([5, 4, 3, 1, 2, 6, 7], dtype=int32)}"
      ]
     },
     "execution_count": 15,
     "metadata": {},
     "output_type": "execute_result"
    }
   ],
   "source": [
    "from sklearn.linear_model import Lasso\n",
    "\n",
    "lasso = Lasso(max_iter=1000000)\n",
    "parameters = {'alpha': [.001, .01, 1, 10, 100, 1000, 10000]}\n",
    "gcv = GridSearchCV(lasso, parameters, scoring='r2', cv=2)\n",
    "gcv.fit(x_train_scaled, y_train['Fast Food Consumers'])\n",
    "gcv.cv_results_"
   ]
  },
  {
   "cell_type": "code",
   "execution_count": 16,
   "metadata": {
    "scrolled": false
   },
   "outputs": [
    {
     "data": {
      "text/html": [
       "<div>\n",
       "<style scoped>\n",
       "    .dataframe tbody tr th:only-of-type {\n",
       "        vertical-align: middle;\n",
       "    }\n",
       "\n",
       "    .dataframe tbody tr th {\n",
       "        vertical-align: top;\n",
       "    }\n",
       "\n",
       "    .dataframe thead th {\n",
       "        text-align: right;\n",
       "    }\n",
       "</style>\n",
       "<table border=\"1\" class=\"dataframe\">\n",
       "  <thead>\n",
       "    <tr style=\"text-align: right;\">\n",
       "      <th></th>\n",
       "      <th>Variable</th>\n",
       "      <th>Coefficients</th>\n",
       "    </tr>\n",
       "  </thead>\n",
       "  <tbody>\n",
       "    <tr>\n",
       "      <td>0</td>\n",
       "      <td>Total Population</td>\n",
       "      <td>-175.791793</td>\n",
       "    </tr>\n",
       "    <tr>\n",
       "      <td>1</td>\n",
       "      <td>Pop. that Works from Home</td>\n",
       "      <td>39.385199</td>\n",
       "    </tr>\n",
       "    <tr>\n",
       "      <td>2</td>\n",
       "      <td>Single Occupant Households</td>\n",
       "      <td>-54.996133</td>\n",
       "    </tr>\n",
       "    <tr>\n",
       "      <td>3</td>\n",
       "      <td>Single Parent Households</td>\n",
       "      <td>0.000000</td>\n",
       "    </tr>\n",
       "    <tr>\n",
       "      <td>4</td>\n",
       "      <td>Married Parent Households</td>\n",
       "      <td>6.218625</td>\n",
       "    </tr>\n",
       "    <tr>\n",
       "      <td>5</td>\n",
       "      <td>Undergrads and Grads</td>\n",
       "      <td>735.429668</td>\n",
       "    </tr>\n",
       "    <tr>\n",
       "      <td>6</td>\n",
       "      <td>Diploma/GED attained</td>\n",
       "      <td>96.407597</td>\n",
       "    </tr>\n",
       "    <tr>\n",
       "      <td>7</td>\n",
       "      <td>Degree attained</td>\n",
       "      <td>-57.130900</td>\n",
       "    </tr>\n",
       "    <tr>\n",
       "      <td>8</td>\n",
       "      <td>Households in Poverty</td>\n",
       "      <td>-0.000000</td>\n",
       "    </tr>\n",
       "    <tr>\n",
       "      <td>9</td>\n",
       "      <td>Below 40k Earners</td>\n",
       "      <td>43.315443</td>\n",
       "    </tr>\n",
       "    <tr>\n",
       "      <td>10</td>\n",
       "      <td>40k-100k Earners</td>\n",
       "      <td>-0.000000</td>\n",
       "    </tr>\n",
       "    <tr>\n",
       "      <td>11</td>\n",
       "      <td>Above 100k Earners</td>\n",
       "      <td>-131.183178</td>\n",
       "    </tr>\n",
       "    <tr>\n",
       "      <td>12</td>\n",
       "      <td>Unemployed</td>\n",
       "      <td>-5.220467</td>\n",
       "    </tr>\n",
       "    <tr>\n",
       "      <td>13</td>\n",
       "      <td>Renter Occupied Households</td>\n",
       "      <td>-19.226498</td>\n",
       "    </tr>\n",
       "    <tr>\n",
       "      <td>14</td>\n",
       "      <td>Owner Occupied Households</td>\n",
       "      <td>48.277521</td>\n",
       "    </tr>\n",
       "    <tr>\n",
       "      <td>15</td>\n",
       "      <td>Crime Counts</td>\n",
       "      <td>-205.478070</td>\n",
       "    </tr>\n",
       "    <tr>\n",
       "      <td>16</td>\n",
       "      <td>walk_score</td>\n",
       "      <td>-125.304655</td>\n",
       "    </tr>\n",
       "    <tr>\n",
       "      <td>17</td>\n",
       "      <td>transit_score</td>\n",
       "      <td>315.515481</td>\n",
       "    </tr>\n",
       "    <tr>\n",
       "      <td>18</td>\n",
       "      <td>raw_visit_count</td>\n",
       "      <td>1163.815236</td>\n",
       "    </tr>\n",
       "  </tbody>\n",
       "</table>\n",
       "</div>"
      ],
      "text/plain": [
       "                      Variable  Coefficients\n",
       "0             Total Population   -175.791793\n",
       "1    Pop. that Works from Home     39.385199\n",
       "2   Single Occupant Households    -54.996133\n",
       "3     Single Parent Households      0.000000\n",
       "4    Married Parent Households      6.218625\n",
       "5         Undergrads and Grads    735.429668\n",
       "6         Diploma/GED attained     96.407597\n",
       "7              Degree attained    -57.130900\n",
       "8        Households in Poverty     -0.000000\n",
       "9            Below 40k Earners     43.315443\n",
       "10            40k-100k Earners     -0.000000\n",
       "11          Above 100k Earners   -131.183178\n",
       "12                  Unemployed     -5.220467\n",
       "13  Renter Occupied Households    -19.226498\n",
       "14   Owner Occupied Households     48.277521\n",
       "15                Crime Counts   -205.478070\n",
       "16                  walk_score   -125.304655\n",
       "17               transit_score    315.515481\n",
       "18             raw_visit_count   1163.815236"
      ]
     },
     "execution_count": 16,
     "metadata": {},
     "output_type": "execute_result"
    }
   ],
   "source": [
    "pd.DataFrame({'Variable': x_train_scaled.columns, 'Coefficients': gcv.best_estimator_.coef_})"
   ]
  },
  {
   "cell_type": "markdown",
   "metadata": {},
   "source": [
    "This model again suggests that 'Undergrads and Grads' and 'raw_visit_count' are the most important features, and also supports 'transit_score' as important, but Lasso seems to emphasize 'Diploma/GED attained' and 'Above 100k Earners' where Ridge did not. We'll see how a model on these variables fits."
   ]
  },
  {
   "cell_type": "code",
   "execution_count": 17,
   "metadata": {},
   "outputs": [
    {
     "name": "stdout",
     "output_type": "stream",
     "text": [
      "Model score on training data: 0.5449707241830134\n",
      "Model score on testing data: 0.5661148734273115\n"
     ]
    }
   ],
   "source": [
    "x_train_subset = x_train[[\n",
    "    'Total Population', 'Undergrads and Grads',\n",
    "    'Diploma/GED attained', 'Above 100k Earners', 'Crime Counts',\n",
    "    'walk_score', 'transit_score', 'raw_visit_count']].copy()\n",
    "x_test_subset = x_test[[\n",
    "    'Total Population', 'Undergrads and Grads',\n",
    "    'Diploma/GED attained', 'Above 100k Earners', 'Crime Counts',\n",
    "    'walk_score', 'transit_score', 'raw_visit_count']].copy()\n",
    "lm = LinearRegression()\n",
    "lm.fit(x_train_subset, y_train['Fast Food Consumers'])\n",
    "tr_score = lm.score(x_train_subset, y_train['Fast Food Consumers'])\n",
    "te_score = lm.score(x_test_subset, y_test['Fast Food Consumers'])\n",
    "print('Model score on training data: {}'.format(tr_score))\n",
    "print('Model score on testing data: {}'.format(te_score))"
   ]
  },
  {
   "cell_type": "markdown",
   "metadata": {},
   "source": [
    "And this model actually seems to generalize best of our linear models, so this might be our best set of features. But just for one last input with the linear model, we use RFE to rank our features."
   ]
  },
  {
   "cell_type": "code",
   "execution_count": 18,
   "metadata": {},
   "outputs": [
    {
     "data": {
      "text/html": [
       "<div>\n",
       "<style scoped>\n",
       "    .dataframe tbody tr th:only-of-type {\n",
       "        vertical-align: middle;\n",
       "    }\n",
       "\n",
       "    .dataframe tbody tr th {\n",
       "        vertical-align: top;\n",
       "    }\n",
       "\n",
       "    .dataframe thead th {\n",
       "        text-align: right;\n",
       "    }\n",
       "</style>\n",
       "<table border=\"1\" class=\"dataframe\">\n",
       "  <thead>\n",
       "    <tr style=\"text-align: right;\">\n",
       "      <th></th>\n",
       "      <th>Variable</th>\n",
       "      <th>Ranking</th>\n",
       "    </tr>\n",
       "  </thead>\n",
       "  <tbody>\n",
       "    <tr>\n",
       "      <td>0</td>\n",
       "      <td>Total Population</td>\n",
       "      <td>3</td>\n",
       "    </tr>\n",
       "    <tr>\n",
       "      <td>1</td>\n",
       "      <td>Pop. that Works from Home</td>\n",
       "      <td>11</td>\n",
       "    </tr>\n",
       "    <tr>\n",
       "      <td>2</td>\n",
       "      <td>Single Occupant Households</td>\n",
       "      <td>5</td>\n",
       "    </tr>\n",
       "    <tr>\n",
       "      <td>3</td>\n",
       "      <td>Single Parent Households</td>\n",
       "      <td>12</td>\n",
       "    </tr>\n",
       "    <tr>\n",
       "      <td>4</td>\n",
       "      <td>Married Parent Households</td>\n",
       "      <td>13</td>\n",
       "    </tr>\n",
       "    <tr>\n",
       "      <td>5</td>\n",
       "      <td>Undergrads and Grads</td>\n",
       "      <td>1</td>\n",
       "    </tr>\n",
       "    <tr>\n",
       "      <td>6</td>\n",
       "      <td>Diploma/GED attained</td>\n",
       "      <td>8</td>\n",
       "    </tr>\n",
       "    <tr>\n",
       "      <td>7</td>\n",
       "      <td>Degree attained</td>\n",
       "      <td>18</td>\n",
       "    </tr>\n",
       "    <tr>\n",
       "      <td>8</td>\n",
       "      <td>Households in Poverty</td>\n",
       "      <td>14</td>\n",
       "    </tr>\n",
       "    <tr>\n",
       "      <td>9</td>\n",
       "      <td>Below 40k Earners</td>\n",
       "      <td>4</td>\n",
       "    </tr>\n",
       "    <tr>\n",
       "      <td>10</td>\n",
       "      <td>40k-100k Earners</td>\n",
       "      <td>6</td>\n",
       "    </tr>\n",
       "    <tr>\n",
       "      <td>11</td>\n",
       "      <td>Above 100k Earners</td>\n",
       "      <td>15</td>\n",
       "    </tr>\n",
       "    <tr>\n",
       "      <td>12</td>\n",
       "      <td>Unemployed</td>\n",
       "      <td>16</td>\n",
       "    </tr>\n",
       "    <tr>\n",
       "      <td>13</td>\n",
       "      <td>Renter Occupied Households</td>\n",
       "      <td>17</td>\n",
       "    </tr>\n",
       "    <tr>\n",
       "      <td>14</td>\n",
       "      <td>Owner Occupied Households</td>\n",
       "      <td>10</td>\n",
       "    </tr>\n",
       "    <tr>\n",
       "      <td>15</td>\n",
       "      <td>Crime Counts</td>\n",
       "      <td>2</td>\n",
       "    </tr>\n",
       "    <tr>\n",
       "      <td>16</td>\n",
       "      <td>walk_score</td>\n",
       "      <td>9</td>\n",
       "    </tr>\n",
       "    <tr>\n",
       "      <td>17</td>\n",
       "      <td>transit_score</td>\n",
       "      <td>7</td>\n",
       "    </tr>\n",
       "    <tr>\n",
       "      <td>18</td>\n",
       "      <td>raw_visit_count</td>\n",
       "      <td>1</td>\n",
       "    </tr>\n",
       "  </tbody>\n",
       "</table>\n",
       "</div>"
      ],
      "text/plain": [
       "                      Variable  Ranking\n",
       "0             Total Population        3\n",
       "1    Pop. that Works from Home       11\n",
       "2   Single Occupant Households        5\n",
       "3     Single Parent Households       12\n",
       "4    Married Parent Households       13\n",
       "5         Undergrads and Grads        1\n",
       "6         Diploma/GED attained        8\n",
       "7              Degree attained       18\n",
       "8        Households in Poverty       14\n",
       "9            Below 40k Earners        4\n",
       "10            40k-100k Earners        6\n",
       "11          Above 100k Earners       15\n",
       "12                  Unemployed       16\n",
       "13  Renter Occupied Households       17\n",
       "14   Owner Occupied Households       10\n",
       "15                Crime Counts        2\n",
       "16                  walk_score        9\n",
       "17               transit_score        7\n",
       "18             raw_visit_count        1"
      ]
     },
     "execution_count": 18,
     "metadata": {},
     "output_type": "execute_result"
    }
   ],
   "source": [
    "from sklearn.feature_selection import RFECV\n",
    "from sklearn.linear_model import LinearRegression\n",
    "\n",
    "lm = LinearRegression()\n",
    "\n",
    "rfe = RFECV(lm, cv=2)\n",
    "rfe.fit(x_train_scaled, y_train['Fast Food Consumers'])\n",
    "pd.DataFrame({'Variable': x_train_scaled.columns, 'Ranking': rfe.ranking_})"
   ]
  },
  {
   "cell_type": "markdown",
   "metadata": {},
   "source": [
    "But this method doesn't reveal more than just 'raw_visit_count' and 'Undergrads and Grads' stand above all other features in prediction."
   ]
  },
  {
   "cell_type": "markdown",
   "metadata": {},
   "source": [
    "Before switching to approach this as a classification problem, we first turn to decision tree regressors to see if we can produce a better fitting model if we abandon our linear constraints. Note we don't have to use our scaled dataset with our tree model."
   ]
  },
  {
   "cell_type": "code",
   "execution_count": 19,
   "metadata": {
    "scrolled": false
   },
   "outputs": [
    {
     "name": "stdout",
     "output_type": "stream",
     "text": [
      "Model score on training data: 0.8923444516415268\n",
      "Model score on testing data: 0.6063601876394138\n"
     ]
    },
    {
     "data": {
      "text/html": [
       "<div>\n",
       "<style scoped>\n",
       "    .dataframe tbody tr th:only-of-type {\n",
       "        vertical-align: middle;\n",
       "    }\n",
       "\n",
       "    .dataframe tbody tr th {\n",
       "        vertical-align: top;\n",
       "    }\n",
       "\n",
       "    .dataframe thead th {\n",
       "        text-align: right;\n",
       "    }\n",
       "</style>\n",
       "<table border=\"1\" class=\"dataframe\">\n",
       "  <thead>\n",
       "    <tr style=\"text-align: right;\">\n",
       "      <th></th>\n",
       "      <th>Variable</th>\n",
       "      <th>Coefficient</th>\n",
       "    </tr>\n",
       "  </thead>\n",
       "  <tbody>\n",
       "    <tr>\n",
       "      <td>0</td>\n",
       "      <td>Total Population</td>\n",
       "      <td>0.050074</td>\n",
       "    </tr>\n",
       "    <tr>\n",
       "      <td>1</td>\n",
       "      <td>Pop. that Works from Home</td>\n",
       "      <td>0.018094</td>\n",
       "    </tr>\n",
       "    <tr>\n",
       "      <td>2</td>\n",
       "      <td>Single Occupant Households</td>\n",
       "      <td>0.018734</td>\n",
       "    </tr>\n",
       "    <tr>\n",
       "      <td>3</td>\n",
       "      <td>Single Parent Households</td>\n",
       "      <td>0.009956</td>\n",
       "    </tr>\n",
       "    <tr>\n",
       "      <td>4</td>\n",
       "      <td>Married Parent Households</td>\n",
       "      <td>0.009811</td>\n",
       "    </tr>\n",
       "    <tr>\n",
       "      <td>5</td>\n",
       "      <td>Undergrads and Grads</td>\n",
       "      <td>0.305185</td>\n",
       "    </tr>\n",
       "    <tr>\n",
       "      <td>6</td>\n",
       "      <td>Diploma/GED attained</td>\n",
       "      <td>0.019438</td>\n",
       "    </tr>\n",
       "    <tr>\n",
       "      <td>7</td>\n",
       "      <td>Degree attained</td>\n",
       "      <td>0.046312</td>\n",
       "    </tr>\n",
       "    <tr>\n",
       "      <td>8</td>\n",
       "      <td>Households in Poverty</td>\n",
       "      <td>0.073707</td>\n",
       "    </tr>\n",
       "    <tr>\n",
       "      <td>9</td>\n",
       "      <td>Below 40k Earners</td>\n",
       "      <td>0.068694</td>\n",
       "    </tr>\n",
       "    <tr>\n",
       "      <td>10</td>\n",
       "      <td>40k-100k Earners</td>\n",
       "      <td>0.024868</td>\n",
       "    </tr>\n",
       "    <tr>\n",
       "      <td>11</td>\n",
       "      <td>Above 100k Earners</td>\n",
       "      <td>0.011498</td>\n",
       "    </tr>\n",
       "    <tr>\n",
       "      <td>12</td>\n",
       "      <td>Unemployed</td>\n",
       "      <td>0.011428</td>\n",
       "    </tr>\n",
       "    <tr>\n",
       "      <td>13</td>\n",
       "      <td>Renter Occupied Households</td>\n",
       "      <td>0.014320</td>\n",
       "    </tr>\n",
       "    <tr>\n",
       "      <td>14</td>\n",
       "      <td>Owner Occupied Households</td>\n",
       "      <td>0.039284</td>\n",
       "    </tr>\n",
       "    <tr>\n",
       "      <td>15</td>\n",
       "      <td>Crime Counts</td>\n",
       "      <td>0.074551</td>\n",
       "    </tr>\n",
       "    <tr>\n",
       "      <td>16</td>\n",
       "      <td>walk_score</td>\n",
       "      <td>0.071843</td>\n",
       "    </tr>\n",
       "    <tr>\n",
       "      <td>17</td>\n",
       "      <td>transit_score</td>\n",
       "      <td>0.007920</td>\n",
       "    </tr>\n",
       "    <tr>\n",
       "      <td>18</td>\n",
       "      <td>raw_visit_count</td>\n",
       "      <td>0.124284</td>\n",
       "    </tr>\n",
       "  </tbody>\n",
       "</table>\n",
       "</div>"
      ],
      "text/plain": [
       "                      Variable  Coefficient\n",
       "0             Total Population     0.050074\n",
       "1    Pop. that Works from Home     0.018094\n",
       "2   Single Occupant Households     0.018734\n",
       "3     Single Parent Households     0.009956\n",
       "4    Married Parent Households     0.009811\n",
       "5         Undergrads and Grads     0.305185\n",
       "6         Diploma/GED attained     0.019438\n",
       "7              Degree attained     0.046312\n",
       "8        Households in Poverty     0.073707\n",
       "9            Below 40k Earners     0.068694\n",
       "10            40k-100k Earners     0.024868\n",
       "11          Above 100k Earners     0.011498\n",
       "12                  Unemployed     0.011428\n",
       "13  Renter Occupied Households     0.014320\n",
       "14   Owner Occupied Households     0.039284\n",
       "15                Crime Counts     0.074551\n",
       "16                  walk_score     0.071843\n",
       "17               transit_score     0.007920\n",
       "18             raw_visit_count     0.124284"
      ]
     },
     "execution_count": 19,
     "metadata": {},
     "output_type": "execute_result"
    }
   ],
   "source": [
    "from sklearn.ensemble import RandomForestRegressor\n",
    "forest = RandomForestRegressor(n_estimators=350, random_state=42)\n",
    "forest.fit(x_train, y_train['Fast Food Consumers'])\n",
    "tr_score = forest.score(x_train, y_train['Fast Food Consumers'])\n",
    "te_score = forest.score(x_test, y_test['Fast Food Consumers'])\n",
    "print('Model score on training data: {}'.format(tr_score))\n",
    "print('Model score on testing data: {}'.format(te_score))\n",
    "pd.DataFrame({'Variable': x_train.columns, 'Coefficient': forest.feature_importances_})"
   ]
  },
  {
   "cell_type": "markdown",
   "metadata": {},
   "source": [
    "And perhaps as expected our tree based model scores better than our linear model on both training and test data. Additionally, our regressor continues to emphasize 'Undergrads and Grads' and 'raw_visit_count', and 'Crime Counts' is again seen as a runner up, but then this model is the first to point to the predictive power of 'Households in Poverty', and 'Below 40k Earners'. We will take note of this when sampling variables for our classifiers."
   ]
  },
  {
   "cell_type": "markdown",
   "metadata": {},
   "source": [
    "Before turning to our classifiers though, we see if a GradientBoosting algorithm on our trees can increase our prediction power."
   ]
  },
  {
   "cell_type": "code",
   "execution_count": 20,
   "metadata": {
    "scrolled": false
   },
   "outputs": [
    {
     "name": "stdout",
     "output_type": "stream",
     "text": [
      "Model score on training data: 0.8161663182048728\n",
      "Model score on testing data: 0.5897843086228176\n"
     ]
    },
    {
     "data": {
      "text/html": [
       "<div>\n",
       "<style scoped>\n",
       "    .dataframe tbody tr th:only-of-type {\n",
       "        vertical-align: middle;\n",
       "    }\n",
       "\n",
       "    .dataframe tbody tr th {\n",
       "        vertical-align: top;\n",
       "    }\n",
       "\n",
       "    .dataframe thead th {\n",
       "        text-align: right;\n",
       "    }\n",
       "</style>\n",
       "<table border=\"1\" class=\"dataframe\">\n",
       "  <thead>\n",
       "    <tr style=\"text-align: right;\">\n",
       "      <th></th>\n",
       "      <th>Variable</th>\n",
       "      <th>Feature Importance</th>\n",
       "    </tr>\n",
       "  </thead>\n",
       "  <tbody>\n",
       "    <tr>\n",
       "      <td>0</td>\n",
       "      <td>Total Population</td>\n",
       "      <td>0.018210</td>\n",
       "    </tr>\n",
       "    <tr>\n",
       "      <td>1</td>\n",
       "      <td>Pop. that Works from Home</td>\n",
       "      <td>0.013704</td>\n",
       "    </tr>\n",
       "    <tr>\n",
       "      <td>2</td>\n",
       "      <td>Single Occupant Households</td>\n",
       "      <td>0.008220</td>\n",
       "    </tr>\n",
       "    <tr>\n",
       "      <td>3</td>\n",
       "      <td>Single Parent Households</td>\n",
       "      <td>0.001857</td>\n",
       "    </tr>\n",
       "    <tr>\n",
       "      <td>4</td>\n",
       "      <td>Married Parent Households</td>\n",
       "      <td>0.003450</td>\n",
       "    </tr>\n",
       "    <tr>\n",
       "      <td>5</td>\n",
       "      <td>Undergrads and Grads</td>\n",
       "      <td>0.472460</td>\n",
       "    </tr>\n",
       "    <tr>\n",
       "      <td>6</td>\n",
       "      <td>Diploma/GED attained</td>\n",
       "      <td>0.039818</td>\n",
       "    </tr>\n",
       "    <tr>\n",
       "      <td>7</td>\n",
       "      <td>Degree attained</td>\n",
       "      <td>0.099454</td>\n",
       "    </tr>\n",
       "    <tr>\n",
       "      <td>8</td>\n",
       "      <td>Households in Poverty</td>\n",
       "      <td>0.027791</td>\n",
       "    </tr>\n",
       "    <tr>\n",
       "      <td>9</td>\n",
       "      <td>Below 40k Earners</td>\n",
       "      <td>0.004061</td>\n",
       "    </tr>\n",
       "    <tr>\n",
       "      <td>10</td>\n",
       "      <td>40k-100k Earners</td>\n",
       "      <td>0.001577</td>\n",
       "    </tr>\n",
       "    <tr>\n",
       "      <td>11</td>\n",
       "      <td>Above 100k Earners</td>\n",
       "      <td>0.004524</td>\n",
       "    </tr>\n",
       "    <tr>\n",
       "      <td>12</td>\n",
       "      <td>Unemployed</td>\n",
       "      <td>0.001325</td>\n",
       "    </tr>\n",
       "    <tr>\n",
       "      <td>13</td>\n",
       "      <td>Renter Occupied Households</td>\n",
       "      <td>0.008543</td>\n",
       "    </tr>\n",
       "    <tr>\n",
       "      <td>14</td>\n",
       "      <td>Owner Occupied Households</td>\n",
       "      <td>0.002149</td>\n",
       "    </tr>\n",
       "    <tr>\n",
       "      <td>15</td>\n",
       "      <td>Crime Counts</td>\n",
       "      <td>0.068280</td>\n",
       "    </tr>\n",
       "    <tr>\n",
       "      <td>16</td>\n",
       "      <td>walk_score</td>\n",
       "      <td>0.174245</td>\n",
       "    </tr>\n",
       "    <tr>\n",
       "      <td>17</td>\n",
       "      <td>transit_score</td>\n",
       "      <td>0.006017</td>\n",
       "    </tr>\n",
       "    <tr>\n",
       "      <td>18</td>\n",
       "      <td>raw_visit_count</td>\n",
       "      <td>0.044313</td>\n",
       "    </tr>\n",
       "  </tbody>\n",
       "</table>\n",
       "</div>"
      ],
      "text/plain": [
       "                      Variable  Feature Importance\n",
       "0             Total Population            0.018210\n",
       "1    Pop. that Works from Home            0.013704\n",
       "2   Single Occupant Households            0.008220\n",
       "3     Single Parent Households            0.001857\n",
       "4    Married Parent Households            0.003450\n",
       "5         Undergrads and Grads            0.472460\n",
       "6         Diploma/GED attained            0.039818\n",
       "7              Degree attained            0.099454\n",
       "8        Households in Poverty            0.027791\n",
       "9            Below 40k Earners            0.004061\n",
       "10            40k-100k Earners            0.001577\n",
       "11          Above 100k Earners            0.004524\n",
       "12                  Unemployed            0.001325\n",
       "13  Renter Occupied Households            0.008543\n",
       "14   Owner Occupied Households            0.002149\n",
       "15                Crime Counts            0.068280\n",
       "16                  walk_score            0.174245\n",
       "17               transit_score            0.006017\n",
       "18             raw_visit_count            0.044313"
      ]
     },
     "execution_count": 20,
     "metadata": {},
     "output_type": "execute_result"
    }
   ],
   "source": [
    "from sklearn.ensemble import GradientBoostingRegressor\n",
    "\n",
    "gbr = GradientBoostingRegressor(n_estimators = 100, max_depth=5, learning_rate=.01, random_state=42)\n",
    "gbr.fit(x_train, y_train['Fast Food Consumers'])\n",
    "\n",
    "tr_score = gbr.score(x_train, y_train['Fast Food Consumers'])\n",
    "te_score = gbr.score(x_test, y_test['Fast Food Consumers'])\n",
    "print('Model score on training data: {}'.format(tr_score))\n",
    "print('Model score on testing data: {}'.format(te_score))\n",
    "\n",
    "pd.DataFrame({'Variable': x_train.columns, 'Feature Importance': gbr.feature_importances_})"
   ]
  },
  {
   "cell_type": "markdown",
   "metadata": {},
   "source": [
    "We don't see any increase in predictive power, but we do see 'Degree attained' as a surprisingly important feature for prediction."
   ]
  },
  {
   "cell_type": "markdown",
   "metadata": {},
   "source": [
    "Since our random forest regressor seemed to be the best fit for predicting consumership, and our goal is to predict where we should open restaurants, we also want to have a model to know where there are fewer establishments than could be predicted. To predict this count of restaurants we probably want to actually use the fast food consumers as a predictor, so we'll add that to our previous best performing Random Forest model with the variables that were emphasized there:"
   ]
  },
  {
   "cell_type": "code",
   "execution_count": 34,
   "metadata": {},
   "outputs": [
    {
     "name": "stdout",
     "output_type": "stream",
     "text": [
      "Model score on training data: 0.9423576879469737\n",
      "Model score on testing data: 0.05862344704305067\n"
     ]
    },
    {
     "data": {
      "text/html": [
       "<div>\n",
       "<style scoped>\n",
       "    .dataframe tbody tr th:only-of-type {\n",
       "        vertical-align: middle;\n",
       "    }\n",
       "\n",
       "    .dataframe tbody tr th {\n",
       "        vertical-align: top;\n",
       "    }\n",
       "\n",
       "    .dataframe thead th {\n",
       "        text-align: right;\n",
       "    }\n",
       "</style>\n",
       "<table border=\"1\" class=\"dataframe\">\n",
       "  <thead>\n",
       "    <tr style=\"text-align: right;\">\n",
       "      <th></th>\n",
       "      <th>Variable</th>\n",
       "      <th>Coefficient</th>\n",
       "    </tr>\n",
       "  </thead>\n",
       "  <tbody>\n",
       "    <tr>\n",
       "      <td>0</td>\n",
       "      <td>Total Population</td>\n",
       "      <td>0.031844</td>\n",
       "    </tr>\n",
       "    <tr>\n",
       "      <td>1</td>\n",
       "      <td>Undergrads and Grads</td>\n",
       "      <td>0.052583</td>\n",
       "    </tr>\n",
       "    <tr>\n",
       "      <td>2</td>\n",
       "      <td>Degree attained</td>\n",
       "      <td>0.027531</td>\n",
       "    </tr>\n",
       "    <tr>\n",
       "      <td>3</td>\n",
       "      <td>Households in Poverty</td>\n",
       "      <td>0.063509</td>\n",
       "    </tr>\n",
       "    <tr>\n",
       "      <td>4</td>\n",
       "      <td>Below 40k Earners</td>\n",
       "      <td>0.051631</td>\n",
       "    </tr>\n",
       "    <tr>\n",
       "      <td>5</td>\n",
       "      <td>Crime Counts</td>\n",
       "      <td>0.134555</td>\n",
       "    </tr>\n",
       "    <tr>\n",
       "      <td>6</td>\n",
       "      <td>walk_score</td>\n",
       "      <td>0.028563</td>\n",
       "    </tr>\n",
       "    <tr>\n",
       "      <td>7</td>\n",
       "      <td>raw_visit_count</td>\n",
       "      <td>0.066670</td>\n",
       "    </tr>\n",
       "    <tr>\n",
       "      <td>8</td>\n",
       "      <td>Fast Food Consumers</td>\n",
       "      <td>0.543114</td>\n",
       "    </tr>\n",
       "  </tbody>\n",
       "</table>\n",
       "</div>"
      ],
      "text/plain": [
       "                Variable  Coefficient\n",
       "0       Total Population     0.031844\n",
       "1   Undergrads and Grads     0.052583\n",
       "2        Degree attained     0.027531\n",
       "3  Households in Poverty     0.063509\n",
       "4      Below 40k Earners     0.051631\n",
       "5           Crime Counts     0.134555\n",
       "6             walk_score     0.028563\n",
       "7        raw_visit_count     0.066670\n",
       "8    Fast Food Consumers     0.543114"
      ]
     },
     "execution_count": 34,
     "metadata": {},
     "output_type": "execute_result"
    }
   ],
   "source": [
    "x_train_count = x_train[['Total Population', 'Undergrads and Grads', \n",
    "    'Degree attained', 'Households in Poverty', 'Below 40k Earners',\n",
    "    'Crime Counts', 'walk_score', 'raw_visit_count']].copy()\n",
    "x_train_count['Fast Food Consumers'] = y_train['Fast Food Consumers']\n",
    "\n",
    "x_test_count = x_test[['Total Population', 'Undergrads and Grads',\n",
    "    'Degree attained', 'Households in Poverty', 'Below 40k Earners',\n",
    "    'Crime Counts', 'walk_score', 'raw_visit_count']].copy()\n",
    "x_test_count['Fast Food Consumers'] = y_test['Fast Food Consumers']\n",
    "\n",
    "forest = RandomForestRegressor(n_estimators=350, random_state=42)\n",
    "forest.fit(x_train_count, y_train['Fast Food Count'])\n",
    "tr_score = forest.score(x_train_count, y_train['Fast Food Count'])\n",
    "te_score = forest.score(x_test_count, y_test['Fast Food Count'])\n",
    "print('Model score on training data: {}'.format(tr_score))\n",
    "print('Model score on testing data: {}'.format(te_score))\n",
    "pd.DataFrame({'Variable': x_train_count.columns, 'Coefficient': forest.feature_importances_})"
   ]
  },
  {
   "cell_type": "markdown",
   "metadata": {},
   "source": [
    "The very different $R^2$ scores between training and testing data for this regressor may indicate it generalizes too poorly to be a useful model, but if we can trust it we would like to determine where the current establishment count is lower than predicted as places where we might want to make a new location:"
   ]
  },
  {
   "cell_type": "code",
   "execution_count": 22,
   "metadata": {},
   "outputs": [
    {
     "data": {
      "text/html": [
       "<div>\n",
       "<style scoped>\n",
       "    .dataframe tbody tr th:only-of-type {\n",
       "        vertical-align: middle;\n",
       "    }\n",
       "\n",
       "    .dataframe tbody tr th {\n",
       "        vertical-align: top;\n",
       "    }\n",
       "\n",
       "    .dataframe thead th {\n",
       "        text-align: right;\n",
       "    }\n",
       "</style>\n",
       "<table border=\"1\" class=\"dataframe\">\n",
       "  <thead>\n",
       "    <tr style=\"text-align: right;\">\n",
       "      <th></th>\n",
       "      <th>Fast Food Count</th>\n",
       "      <th>Predicted Count</th>\n",
       "      <th>Successful Location</th>\n",
       "    </tr>\n",
       "  </thead>\n",
       "  <tbody>\n",
       "    <tr>\n",
       "      <td>421010004011</td>\n",
       "      <td>3</td>\n",
       "      <td>4</td>\n",
       "      <td>True</td>\n",
       "    </tr>\n",
       "    <tr>\n",
       "      <td>421010312002</td>\n",
       "      <td>1</td>\n",
       "      <td>2</td>\n",
       "      <td>True</td>\n",
       "    </tr>\n",
       "  </tbody>\n",
       "</table>\n",
       "</div>"
      ],
      "text/plain": [
       "              Fast Food Count  Predicted Count  Successful Location\n",
       "421010004011                3                4                 True\n",
       "421010312002                1                2                 True"
      ]
     },
     "execution_count": 22,
     "metadata": {},
     "output_type": "execute_result"
    }
   ],
   "source": [
    "pc = pd.DataFrame({\n",
    "    'Fast Food Count': y_train['Fast Food Count'].astype(int),\n",
    "    'Predicted Count': forest.predict(x_train_count).astype(int),\n",
    "    'Successful Location': y_train['Successful Location']})\n",
    "pc[pc['Successful Location'] & (pc['Fast Food Count']<pc['Predicted Count'])]"
   ]
  },
  {
   "cell_type": "code",
   "execution_count": 35,
   "metadata": {},
   "outputs": [
    {
     "data": {
      "text/html": [
       "<div>\n",
       "<style scoped>\n",
       "    .dataframe tbody tr th:only-of-type {\n",
       "        vertical-align: middle;\n",
       "    }\n",
       "\n",
       "    .dataframe tbody tr th {\n",
       "        vertical-align: top;\n",
       "    }\n",
       "\n",
       "    .dataframe thead th {\n",
       "        text-align: right;\n",
       "    }\n",
       "</style>\n",
       "<table border=\"1\" class=\"dataframe\">\n",
       "  <thead>\n",
       "    <tr style=\"text-align: right;\">\n",
       "      <th></th>\n",
       "      <th>Fast Food Count</th>\n",
       "      <th>Predicted Count</th>\n",
       "      <th>Successful Location</th>\n",
       "    </tr>\n",
       "  </thead>\n",
       "  <tbody>\n",
       "    <tr>\n",
       "      <td>421010377001</td>\n",
       "      <td>2</td>\n",
       "      <td>4</td>\n",
       "      <td>True</td>\n",
       "    </tr>\n",
       "    <tr>\n",
       "      <td>421010379003</td>\n",
       "      <td>4</td>\n",
       "      <td>5</td>\n",
       "      <td>True</td>\n",
       "    </tr>\n",
       "    <tr>\n",
       "      <td>421010146001</td>\n",
       "      <td>3</td>\n",
       "      <td>4</td>\n",
       "      <td>True</td>\n",
       "    </tr>\n",
       "    <tr>\n",
       "      <td>421010369003</td>\n",
       "      <td>4</td>\n",
       "      <td>5</td>\n",
       "      <td>True</td>\n",
       "    </tr>\n",
       "    <tr>\n",
       "      <td>421010010011</td>\n",
       "      <td>2</td>\n",
       "      <td>4</td>\n",
       "      <td>True</td>\n",
       "    </tr>\n",
       "  </tbody>\n",
       "</table>\n",
       "</div>"
      ],
      "text/plain": [
       "              Fast Food Count  Predicted Count  Successful Location\n",
       "421010377001                2                4                 True\n",
       "421010379003                4                5                 True\n",
       "421010146001                3                4                 True\n",
       "421010369003                4                5                 True\n",
       "421010010011                2                4                 True"
      ]
     },
     "execution_count": 35,
     "metadata": {},
     "output_type": "execute_result"
    }
   ],
   "source": [
    "pc = pd.DataFrame({\n",
    "    'Fast Food Count': y_test['Fast Food Count'].astype(int),\n",
    "    'Predicted Count': forest.predict(x_test_count).astype(int),\n",
    "    'Successful Location': y_test['Successful Location']})\n",
    "pc[pc['Successful Location'] & (pc['Fast Food Count']<pc['Predicted Count'])]"
   ]
  },
  {
   "cell_type": "markdown",
   "metadata": {},
   "source": [
    "And our model points us to two locations where we might want to start a new fast food establishment, though again we might take this with a grain of salt due to low score on testing data."
   ]
  },
  {
   "cell_type": "markdown",
   "metadata": {},
   "source": [
    "### Classification\n",
    "\n",
    "Now we'll start seeing how our classification algorithms perform with our discovered top subsets of features. We'll start with seeing how well we can predict success with linear models (logistic regression, SVM) as before, then see how a perceptron based classifier performs, then move again on to tree models, then kNearest Neighbors, and finally see what a naive bayes predictor can produce.\n",
    "\n",
    "We'll use our best linear model variables from lasso for our linear classifiers. For each classifier we'll output the recall (how many of the successful locations we identified), the precision (how many of the successful locations we predicted were actually confirmed as such), and the Area under the receiver operator curve (relative tradeoff of true positives to false positives)."
   ]
  },
  {
   "cell_type": "code",
   "execution_count": 32,
   "metadata": {
    "scrolled": false
   },
   "outputs": [
    {
     "name": "stdout",
     "output_type": "stream",
     "text": [
      "This classifier has a recall score of 0.32, a precision score of 0.8, and an area under receiver operating curve score of 0.85 on the training data.\n",
      "This classifier has a recall score of 0.5, a precision score of 1.0, and an area under receiver operating curve score of 0.71 on the test data.\n"
     ]
    }
   ],
   "source": [
    "# first we aim to use a logistic regression model. As our best scoring\n",
    "# linear model was produced by our Lasso Cost function, we'll use those\n",
    "# variables in particular for our linear logisitic regression\n",
    "from sklearn.linear_model import LogisticRegression\n",
    "from sklearn.metrics import recall_score\n",
    "from sklearn.metrics import precision_score\n",
    "from sklearn.metrics import roc_auc_score\n",
    "\n",
    "x_train_subset = x_train_scaled[[\n",
    "    'Total Population', 'Undergrads and Grads',\n",
    "    'Diploma/GED attained', 'Above 100k Earners', 'Crime Counts',\n",
    "    'walk_score', 'transit_score', 'raw_visit_count']].copy()\n",
    "x_test_subset = x_test_scaled[[\n",
    "    'Total Population', 'Undergrads and Grads',\n",
    "    'Diploma/GED attained', 'Above 100k Earners', 'Crime Counts',\n",
    "    'walk_score', 'transit_score', 'raw_visit_count']].copy()\n",
    "\n",
    "logreg = LogisticRegression(solver='lbfgs')\n",
    "logreg.fit(x_train_subset, y_train['Successful Location'])\n",
    "\n",
    "print('This classifier has a recall score of {}'.format(\n",
    "      recall_score(y_train['Successful Location'], logreg.predict(x_train_subset))) +\n",
    "      ', a precision score of {}'.format(\n",
    "      precision_score(y_train['Successful Location'], logreg.predict(x_train_subset))) +\n",
    "      ', and an area under receiver operating curve score of {:.2f}'.format(\n",
    "      roc_auc_score(y_train['Successful Location'], logreg.predict_proba(x_train_subset)[:,1])) +\n",
    "      ' on the training data.')\n",
    "print('This classifier has a recall score of {}'.format(\n",
    "      recall_score(y_test['Successful Location'], logreg.predict(x_test_subset))) +\n",
    "      ', a precision score of {}'.format(\n",
    "      precision_score(y_test['Successful Location'], logreg.predict(x_test_subset))) +\n",
    "      ', and an area under receiver operating curve score of {:.2f}'.format(\n",
    "      roc_auc_score(y_test['Successful Location'], logreg.predict_proba(x_test_subset)[:,1])) +\n",
    "      ' on the test data.')"
   ]
  },
  {
   "cell_type": "markdown",
   "metadata": {},
   "source": [
    "Despite less than stellar performance on the training data, it is good to see a precision of 1 on our test data predictions, and our AUC score does indicate a fairly good classifier (especially on the training data)."
   ]
  },
  {
   "cell_type": "markdown",
   "metadata": {},
   "source": [
    "Next we'll see if we can predict better with a SVM and a RBF kernel to try to predict with higher order variables."
   ]
  },
  {
   "cell_type": "code",
   "execution_count": 33,
   "metadata": {
    "scrolled": true
   },
   "outputs": [
    {
     "name": "stdout",
     "output_type": "stream",
     "text": [
      "This classifier has a recall score of 0.32, a precision score of 1.0, and an area under receiver operating curve score of 0.93 on the training data.\n",
      "This classifier has a recall score of 0.5, a precision score of 1.0, and an area under receiver operating curve score of 0.87 on the test data.\n"
     ]
    }
   ],
   "source": [
    "from sklearn.svm import SVC\n",
    "\n",
    "svm = SVC(kernel='rbf', probability=True)\n",
    "parameters = ({'C': [0.1, 1, 10, 100], 'gamma':  [0.1, 1, 10, 100]})\n",
    "\n",
    "gcv = GridSearchCV(svm, parameters, cv=2, iid=True)\n",
    "gcv.fit(x_train_subset, y_train['Successful Location'])\n",
    "\n",
    "y_train_pred = gcv.best_estimator_.predict(x_train_subset)\n",
    "y_train_ppred = gcv.best_estimator_.predict_proba(x_train_subset)\n",
    "y_test_pred = gcv.best_estimator_.predict(x_test_subset)\n",
    "y_test_ppred = gcv.best_estimator_.predict_proba(x_test_subset)\n",
    "print('This classifier has a recall score of {}'.format(\n",
    "      recall_score(y_train['Successful Location'], y_train_pred)) +\n",
    "      ', a precision score of {}'.format(\n",
    "      precision_score(y_train['Successful Location'], y_train_pred)) +\n",
    "      ', and an area under receiver operating curve score of {:.2f}'.format(\n",
    "      roc_auc_score(y_train['Successful Location'], y_train_ppred[:,1])) +\n",
    "      ' on the training data.')\n",
    "print('This classifier has a recall score of {}'.format(\n",
    "      recall_score(y_test['Successful Location'], y_test_pred)) +\n",
    "      ', a precision score of {}'.format(\n",
    "      precision_score(y_test['Successful Location'], y_test_pred)) +\n",
    "      ', and an area under receiver operating curve score of {:.2f}'.format(\n",
    "      roc_auc_score(y_test['Successful Location'], y_test_ppred[:,1])) +\n",
    "      ' on the test data.')"
   ]
  },
  {
   "cell_type": "markdown",
   "metadata": {},
   "source": [
    "With the SVM model the recall and precision don't change much from our logistic regression, the roc auc on the predicted probabilities however indicates a more confident model in predicting successful areas."
   ]
  },
  {
   "cell_type": "markdown",
   "metadata": {},
   "source": [
    "We'll now switch from linear models to reduce the bias of our estimators, perhaps at the cost of increased variance in our predictions."
   ]
  },
  {
   "cell_type": "markdown",
   "metadata": {},
   "source": [
    "We'll first feed our full set of variables into a perceptron based learning model and see how well this model predicts our success class."
   ]
  },
  {
   "cell_type": "code",
   "execution_count": 35,
   "metadata": {
    "scrolled": true
   },
   "outputs": [
    {
     "name": "stdout",
     "output_type": "stream",
     "text": [
      "This classifier has a recall score of 1.0, a precision score of 1.0, and an area under receiver operating curve score of 1.00 on the training data.\n",
      "This classifier has a recall score of 0.5, a precision score of 1.0, and an area under receiver operating curve score of 0.77 on the test data.\n"
     ]
    }
   ],
   "source": [
    "from sklearn.neural_network import MLPClassifier\n",
    "\n",
    "mlp = MLPClassifier(max_iter=10000, random_state=42, hidden_layer_sizes=[100,100])\n",
    "mlp.fit(x_train_scaled, y_train['Successful Location'])\n",
    "mlp.score(x_train_scaled, y_train['Successful Location'])\n",
    "\n",
    "print('This classifier has a recall score of {}'.format(\n",
    "      recall_score(y_train['Successful Location'], mlp.predict(x_train_scaled))) +\n",
    "      ', a precision score of {}'.format(\n",
    "      precision_score(y_train['Successful Location'], mlp.predict(x_train_scaled))) +\n",
    "      ', and an area under receiver operating curve score of {:.2f}'.format(\n",
    "      roc_auc_score(y_train['Successful Location'], mlp.predict_proba(x_train_scaled)[:,1])) +\n",
    "      ' on the training data.')\n",
    "print('This classifier has a recall score of {}'.format(\n",
    "      recall_score(y_test['Successful Location'], mlp.predict(x_test_scaled))) +\n",
    "      ', a precision score of {}'.format(\n",
    "      precision_score(y_test['Successful Location'], mlp.predict(x_test_scaled))) +\n",
    "      ', and an area under receiver operating curve score of {:.2f}'.format(\n",
    "      roc_auc_score(y_test['Successful Location'], mlp.predict_proba(x_test_scaled)[:,1])) +\n",
    "      ' on the test data.')"
   ]
  },
  {
   "cell_type": "markdown",
   "metadata": {},
   "source": [
    "And just for a point of comparison we try training with just our Lasso selected variables."
   ]
  },
  {
   "cell_type": "code",
   "execution_count": 37,
   "metadata": {
    "scrolled": false
   },
   "outputs": [
    {
     "name": "stdout",
     "output_type": "stream",
     "text": [
      "This classifier has a recall score of 1.0, a precision score of 1.0, and an area under receiver operating curve score of 1.00 on the training data.\n",
      "This classifier has a recall score of 0.6666666666666666, a precision score of 1.0, and an area under receiver operating curve score of 0.86 on the test data.\n"
     ]
    }
   ],
   "source": [
    "from sklearn.neural_network import MLPClassifier\n",
    "\n",
    "mlp = MLPClassifier(max_iter=10000, random_state=42, hidden_layer_sizes=[100,100])\n",
    "mlp.fit(x_train_subset, y_train['Successful Location'])\n",
    "\n",
    "print('This classifier has a recall score of {}'.format(\n",
    "      recall_score(y_train['Successful Location'], mlp.predict(x_train_subset))) +\n",
    "      ', a precision score of {}'.format(\n",
    "      precision_score(y_train['Successful Location'], mlp.predict(x_train_subset))) +\n",
    "      ', and an area under receiver operating curve score of {:.2f}'.format(\n",
    "      roc_auc_score(y_train['Successful Location'], mlp.predict_proba(x_train_subset)[:,1])) +\n",
    "      ' on the training data.')\n",
    "print('This classifier has a recall score of {}'.format(\n",
    "      recall_score(y_test['Successful Location'], mlp.predict(x_test_subset))) +\n",
    "      ', a precision score of {}'.format(\n",
    "      precision_score(y_test['Successful Location'], mlp.predict(x_test_subset))) +\n",
    "      ', and an area under receiver operating curve score of {:.2f}'.format(\n",
    "      roc_auc_score(y_test['Successful Location'], mlp.predict_proba(x_test_subset)[:,1])) +\n",
    "      ' on the test data.')"
   ]
  },
  {
   "cell_type": "markdown",
   "metadata": {},
   "source": [
    "Both our perceptron based methods have better recall than our previous linear models on the training data, while the one with our subset of variables also increases recall on the testing data, as well as resulting in a better roc auc score. Both have a the difference in recall and auc between training data and test data that may indicate overfitting though. Lets see if we can produce another model that appears to generalize better."
   ]
  },
  {
   "cell_type": "markdown",
   "metadata": {},
   "source": [
    "We can use the tree based classifiers with the full data set. We'll first try the RandomForestClassifier:"
   ]
  },
  {
   "cell_type": "code",
   "execution_count": 38,
   "metadata": {},
   "outputs": [
    {
     "name": "stdout",
     "output_type": "stream",
     "text": [
      "This classifier has a recall score of 1.0, a precision score of 1.0, and an area under receiver operating curve score of 1.00 on the training data.\n",
      "This classifier has a recall score of 0.5, a precision score of 0.6, and an area under receiver operating curve score of 0.90 on the test data.\n"
     ]
    }
   ],
   "source": [
    "from sklearn.ensemble import RandomForestClassifier\n",
    "\n",
    "rfc = RandomForestClassifier(n_estimators = 350, random_state=42)\n",
    "rfc.fit(x_train, y_train['Successful Location'])\n",
    "\n",
    "print('This classifier has a recall score of {}'.format(\n",
    "      recall_score(y_train['Successful Location'], rfc.predict(x_train))) +\n",
    "      ', a precision score of {}'.format(\n",
    "      precision_score(y_train['Successful Location'], rfc.predict(x_train))) +\n",
    "      ', and an area under receiver operating curve score of {:.2f}'.format(\n",
    "      roc_auc_score(y_train['Successful Location'], rfc.predict_proba(x_train)[:,1])) +\n",
    "      ' on the training data.')\n",
    "print('This classifier has a recall score of {}'.format(\n",
    "      recall_score(y_test['Successful Location'], rfc.predict(x_test))) +\n",
    "      ', a precision score of {}'.format(\n",
    "      precision_score(y_test['Successful Location'], rfc.predict(x_test))) +\n",
    "      ', and an area under receiver operating curve score of {:.2f}'.format(\n",
    "      roc_auc_score(y_test['Successful Location'], rfc.predict_proba(x_test)[:,1])) +\n",
    "      ' on the test data.')"
   ]
  },
  {
   "cell_type": "markdown",
   "metadata": {},
   "source": [
    "But we see we lose precision on our test data set while precision may be the most important metric to us, even as we do achieve a rather high auc score on the test data. We want to know any predicted successful location is in fact in that class, even if we might miss predicting some. We'll try again with the subset of Lasso variables as we did with MLP, though we can continue to not use the scaled variables with this tree classifier."
   ]
  },
  {
   "cell_type": "code",
   "execution_count": 39,
   "metadata": {
    "scrolled": true
   },
   "outputs": [
    {
     "name": "stdout",
     "output_type": "stream",
     "text": [
      "This classifier has a recall score of 1.0, a precision score of 1.0, and an area under receiver operating curve score of 1.00 on the training data.\n",
      "This classifier has a recall score of 0.5, a precision score of 1.0, and an area under receiver operating curve score of 0.92 on the test data.\n"
     ]
    }
   ],
   "source": [
    "from sklearn.ensemble import RandomForestClassifier\n",
    "\n",
    "x_train_subset = x_train[[\n",
    "    'Total Population', 'Undergrads and Grads',\n",
    "    'Diploma/GED attained', 'Above 100k Earners', 'Crime Counts',\n",
    "    'walk_score', 'transit_score', 'raw_visit_count']].copy()\n",
    "x_test_subset = x_test[[\n",
    "    'Total Population', 'Undergrads and Grads',\n",
    "    'Diploma/GED attained', 'Above 100k Earners', 'Crime Counts',\n",
    "    'walk_score', 'transit_score', 'raw_visit_count']].copy()\n",
    "\n",
    "rfc = RandomForestClassifier(n_estimators = 350, random_state=42)\n",
    "rfc.fit(x_train_subset, y_train['Successful Location'])\n",
    "\n",
    "print('This classifier has a recall score of {}'.format(\n",
    "      recall_score(y_train['Successful Location'], rfc.predict(x_train_subset))) +\n",
    "      ', a precision score of {}'.format(\n",
    "      precision_score(y_train['Successful Location'], rfc.predict(x_train_subset))) +\n",
    "      ', and an area under receiver operating curve score of {:.2f}'.format(\n",
    "      roc_auc_score(y_train['Successful Location'], rfc.predict_proba(x_train_subset)[:,1])) +\n",
    "      ' on the training data.')\n",
    "print('This classifier has a recall score of {}'.format(\n",
    "      recall_score(y_test['Successful Location'], rfc.predict(x_test_subset))) +\n",
    "      ', a precision score of {}'.format(\n",
    "      precision_score(y_test['Successful Location'], rfc.predict(x_test_subset))) +\n",
    "      ', and an area under receiver operating curve score of {:.2f}'.format(\n",
    "      roc_auc_score(y_test['Successful Location'], rfc.predict_proba(x_test_subset)[:,1])) +\n",
    "      ' on the test data.')"
   ]
  },
  {
   "cell_type": "markdown",
   "metadata": {},
   "source": [
    "And though we don't have the recall score of our MLP model, we do have our desired precision, and a auc curve indicating a truly superior model.\n",
    "\n",
    "Next we try the gradient boosting classifier with the full variable set."
   ]
  },
  {
   "cell_type": "code",
   "execution_count": 40,
   "metadata": {
    "scrolled": false
   },
   "outputs": [
    {
     "name": "stdout",
     "output_type": "stream",
     "text": [
      "This classifier has a recall score of 1.0, a precision score of 1.0, and an area under receiver operating curve score of 1.00 on the training data.\n",
      "This classifier has a recall score of 0.5, a precision score of 1.0, and an area under receiver operating curve score of 0.91 on the test data.\n"
     ]
    }
   ],
   "source": [
    "from sklearn.ensemble import GradientBoostingClassifier\n",
    "\n",
    "gbc = GradientBoostingClassifier(n_estimators = 100, max_depth=5, learning_rate=.1, random_state=42)\n",
    "gbc.fit(x_train, y_train['Successful Location'])\n",
    "\n",
    "print('This classifier has a recall score of {}'.format(\n",
    "      recall_score(y_train['Successful Location'], gbc.predict(x_train))) +\n",
    "      ', a precision score of {}'.format(\n",
    "      precision_score(y_train['Successful Location'], gbc.predict(x_train))) +\n",
    "      ', and an area under receiver operating curve score of {:.2f}'.format(\n",
    "      roc_auc_score(y_train['Successful Location'], gbc.predict_proba(x_train)[:,1])) +\n",
    "      ' on the training data.')\n",
    "print('This classifier has a recall score of {}'.format(\n",
    "      recall_score(y_test['Successful Location'], gbc.predict(x_test))) +\n",
    "      ', a precision score of {}'.format(\n",
    "      precision_score(y_test['Successful Location'], gbc.predict(x_test))) +\n",
    "      ', and an area under receiver operating curve score of {:.2f}'.format(\n",
    "      roc_auc_score(y_test['Successful Location'], gbc.predict_proba(x_test)[:,1])) +\n",
    "      ' on the test data.')"
   ]
  },
  {
   "cell_type": "markdown",
   "metadata": {},
   "source": [
    "We already do as well as the Random Forest with the subset of variables. Lets see what this model predicted for the most important variables:"
   ]
  },
  {
   "cell_type": "code",
   "execution_count": 34,
   "metadata": {
    "scrolled": false
   },
   "outputs": [
    {
     "data": {
      "text/html": [
       "<div>\n",
       "<style scoped>\n",
       "    .dataframe tbody tr th:only-of-type {\n",
       "        vertical-align: middle;\n",
       "    }\n",
       "\n",
       "    .dataframe tbody tr th {\n",
       "        vertical-align: top;\n",
       "    }\n",
       "\n",
       "    .dataframe thead th {\n",
       "        text-align: right;\n",
       "    }\n",
       "</style>\n",
       "<table border=\"1\" class=\"dataframe\">\n",
       "  <thead>\n",
       "    <tr style=\"text-align: right;\">\n",
       "      <th></th>\n",
       "      <th>Variable</th>\n",
       "      <th>Feature Importance</th>\n",
       "    </tr>\n",
       "  </thead>\n",
       "  <tbody>\n",
       "    <tr>\n",
       "      <td>0</td>\n",
       "      <td>Total Population</td>\n",
       "      <td>0.016339</td>\n",
       "    </tr>\n",
       "    <tr>\n",
       "      <td>1</td>\n",
       "      <td>Pop. that Works from Home</td>\n",
       "      <td>0.005981</td>\n",
       "    </tr>\n",
       "    <tr>\n",
       "      <td>2</td>\n",
       "      <td>Single Occupant Households</td>\n",
       "      <td>0.010277</td>\n",
       "    </tr>\n",
       "    <tr>\n",
       "      <td>3</td>\n",
       "      <td>Single Parent Households</td>\n",
       "      <td>0.070895</td>\n",
       "    </tr>\n",
       "    <tr>\n",
       "      <td>4</td>\n",
       "      <td>Married Parent Households</td>\n",
       "      <td>0.065954</td>\n",
       "    </tr>\n",
       "    <tr>\n",
       "      <td>5</td>\n",
       "      <td>Undergrads and Grads</td>\n",
       "      <td>0.303830</td>\n",
       "    </tr>\n",
       "    <tr>\n",
       "      <td>6</td>\n",
       "      <td>Diploma/GED attained</td>\n",
       "      <td>0.034028</td>\n",
       "    </tr>\n",
       "    <tr>\n",
       "      <td>7</td>\n",
       "      <td>Degree attained</td>\n",
       "      <td>0.052723</td>\n",
       "    </tr>\n",
       "    <tr>\n",
       "      <td>8</td>\n",
       "      <td>Households in Poverty</td>\n",
       "      <td>0.002279</td>\n",
       "    </tr>\n",
       "    <tr>\n",
       "      <td>9</td>\n",
       "      <td>Below 40k Earners</td>\n",
       "      <td>0.001621</td>\n",
       "    </tr>\n",
       "    <tr>\n",
       "      <td>10</td>\n",
       "      <td>40k-100k Earners</td>\n",
       "      <td>0.006370</td>\n",
       "    </tr>\n",
       "    <tr>\n",
       "      <td>11</td>\n",
       "      <td>Above 100k Earners</td>\n",
       "      <td>0.014068</td>\n",
       "    </tr>\n",
       "    <tr>\n",
       "      <td>12</td>\n",
       "      <td>Unemployed</td>\n",
       "      <td>0.054714</td>\n",
       "    </tr>\n",
       "    <tr>\n",
       "      <td>13</td>\n",
       "      <td>Renter Occupied Households</td>\n",
       "      <td>0.005590</td>\n",
       "    </tr>\n",
       "    <tr>\n",
       "      <td>14</td>\n",
       "      <td>Owner Occupied Households</td>\n",
       "      <td>0.004997</td>\n",
       "    </tr>\n",
       "    <tr>\n",
       "      <td>15</td>\n",
       "      <td>Crime Counts</td>\n",
       "      <td>0.099952</td>\n",
       "    </tr>\n",
       "    <tr>\n",
       "      <td>16</td>\n",
       "      <td>walk_score</td>\n",
       "      <td>0.090359</td>\n",
       "    </tr>\n",
       "    <tr>\n",
       "      <td>17</td>\n",
       "      <td>transit_score</td>\n",
       "      <td>0.037400</td>\n",
       "    </tr>\n",
       "    <tr>\n",
       "      <td>18</td>\n",
       "      <td>raw_visit_count</td>\n",
       "      <td>0.122622</td>\n",
       "    </tr>\n",
       "  </tbody>\n",
       "</table>\n",
       "</div>"
      ],
      "text/plain": [
       "                      Variable  Feature Importance\n",
       "0             Total Population            0.016339\n",
       "1    Pop. that Works from Home            0.005981\n",
       "2   Single Occupant Households            0.010277\n",
       "3     Single Parent Households            0.070895\n",
       "4    Married Parent Households            0.065954\n",
       "5         Undergrads and Grads            0.303830\n",
       "6         Diploma/GED attained            0.034028\n",
       "7              Degree attained            0.052723\n",
       "8        Households in Poverty            0.002279\n",
       "9            Below 40k Earners            0.001621\n",
       "10            40k-100k Earners            0.006370\n",
       "11          Above 100k Earners            0.014068\n",
       "12                  Unemployed            0.054714\n",
       "13  Renter Occupied Households            0.005590\n",
       "14   Owner Occupied Households            0.004997\n",
       "15                Crime Counts            0.099952\n",
       "16                  walk_score            0.090359\n",
       "17               transit_score            0.037400\n",
       "18             raw_visit_count            0.122622"
      ]
     },
     "execution_count": 34,
     "metadata": {},
     "output_type": "execute_result"
    }
   ],
   "source": [
    "pd.DataFrame({'Variable': x_train.columns, 'Feature Importance': gbc.feature_importances_})"
   ]
  },
  {
   "cell_type": "markdown",
   "metadata": {},
   "source": [
    "We see the features that are emphasized here are:\n",
    "<li>Undergrads and Grads</li>\n",
    "<li>raw_visit_count</li>\n",
    "<li>Crime Counts</li>\n",
    "<li>walk_score</li>\n",
    "<li>Single Parent Households</li>\n",
    "<li>Married Parent Households</li>\n",
    "\n",
    "We can also try our previous subset as input again:"
   ]
  },
  {
   "cell_type": "code",
   "execution_count": 41,
   "metadata": {
    "scrolled": true
   },
   "outputs": [
    {
     "name": "stdout",
     "output_type": "stream",
     "text": [
      "This classifier has a recall score of 1.0, a precision score of 1.0, and an area under receiver operating curve score of 1.00 on the training data.\n",
      "This classifier has a recall score of 0.5, a precision score of 1.0, and an area under receiver operating curve score of 0.91 on the test data.\n"
     ]
    }
   ],
   "source": [
    "from sklearn.ensemble import GradientBoostingClassifier\n",
    "\n",
    "gbc = GradientBoostingClassifier(n_estimators = 100, max_depth=5, learning_rate=.1, random_state=42)\n",
    "gbc.fit(x_train_subset, y_train['Successful Location'])\n",
    "\n",
    "print('This classifier has a recall score of {}'.format(\n",
    "      recall_score(y_train['Successful Location'], gbc.predict(x_train_subset))) +\n",
    "      ', a precision score of {}'.format(\n",
    "      precision_score(y_train['Successful Location'], gbc.predict(x_train_subset))) +\n",
    "      ', and an area under receiver operating curve score of {:.2f}'.format(\n",
    "      roc_auc_score(y_train['Successful Location'], gbc.predict_proba(x_train_subset)[:,1])) +\n",
    "      ' on the training data.')\n",
    "print('This classifier has a recall score of {}'.format(\n",
    "      recall_score(y_test['Successful Location'], gbc.predict(x_test_subset))) +\n",
    "      ', a precision score of {}'.format(\n",
    "      precision_score(y_test['Successful Location'], gbc.predict(x_test_subset))) +\n",
    "      ', and an area under receiver operating curve score of {:.2f}'.format(\n",
    "      roc_auc_score(y_test['Successful Location'], gbc.predict_proba(x_test_subset)[:,1])) +\n",
    "      ' on the test data.')"
   ]
  },
  {
   "cell_type": "markdown",
   "metadata": {},
   "source": [
    "But see no gain in doing this, so we'll try both our best set of linear predictors, and the features emphasized by the gradient boosted classifier on the full set of variables in evaluating a k nearest neighbors classifier, returning to our scaled data sets for this location based algorithm."
   ]
  },
  {
   "cell_type": "code",
   "execution_count": 42,
   "metadata": {},
   "outputs": [
    {
     "name": "stdout",
     "output_type": "stream",
     "text": [
      "This classifier has a recall score of 0.48, a precision score of 0.8571428571428571, and an area under receiver operating curve score of 0.93 on the training data.\n",
      "This classifier has a recall score of 0.5, a precision score of 0.75, and an area under receiver operating curve score of 0.69 on the test data.\n"
     ]
    }
   ],
   "source": [
    "from sklearn.neighbors import KNeighborsClassifier\n",
    "\n",
    "x_train_subset = x_train_scaled[[\n",
    "    'Total Population', 'Undergrads and Grads',\n",
    "    'Diploma/GED attained', 'Above 100k Earners', 'Crime Counts',\n",
    "    'walk_score', 'transit_score', 'raw_visit_count']].copy()\n",
    "x_test_subset = x_test_scaled[[\n",
    "    'Total Population', 'Undergrads and Grads',\n",
    "    'Diploma/GED attained', 'Above 100k Earners', 'Crime Counts',\n",
    "    'walk_score', 'transit_score', 'raw_visit_count']].copy()\n",
    "\n",
    "knn = KNeighborsClassifier(n_neighbors = 3)\n",
    "knn.fit(x_train_subset, y_train['Successful Location'])\n",
    "\n",
    "print('This classifier has a recall score of {}'.format(\n",
    "      recall_score(y_train['Successful Location'], knn.predict(x_train_subset))) +\n",
    "      ', a precision score of {}'.format(\n",
    "      precision_score(y_train['Successful Location'], knn.predict(x_train_subset))) +\n",
    "      ', and an area under receiver operating curve score of {:.2f}'.format(\n",
    "      roc_auc_score(y_train['Successful Location'], knn.predict_proba(x_train_subset)[:,1])) +\n",
    "      ' on the training data.')\n",
    "print('This classifier has a recall score of {}'.format(\n",
    "      recall_score(y_test['Successful Location'], knn.predict(x_test_subset))) +\n",
    "      ', a precision score of {}'.format(\n",
    "      precision_score(y_test['Successful Location'], knn.predict(x_test_subset))) +\n",
    "      ', and an area under receiver operating curve score of {:.2f}'.format(\n",
    "      roc_auc_score(y_test['Successful Location'], knn.predict_proba(x_test_subset)[:,1])) +\n",
    "      ' on the test data.')"
   ]
  },
  {
   "cell_type": "markdown",
   "metadata": {},
   "source": [
    "This model is certainly not our best, so we try the gradient boosting emphasized variables:"
   ]
  },
  {
   "cell_type": "code",
   "execution_count": 43,
   "metadata": {
    "scrolled": true
   },
   "outputs": [
    {
     "name": "stdout",
     "output_type": "stream",
     "text": [
      "This classifier has a recall score of 0.48, a precision score of 0.8, and an area under receiver operating curve score of 0.94 on the training data.\n",
      "This classifier has a recall score of 0.6666666666666666, a precision score of 1.0, and an area under receiver operating curve score of 0.78 on the test data.\n"
     ]
    }
   ],
   "source": [
    "x_train_subset = x_train_scaled[[\n",
    "    'Married Parent Households', 'Single Parent Households', 'Undergrads and Grads',\n",
    "    'Crime Counts', 'walk_score', 'raw_visit_count']].copy()\n",
    "x_test_subset = x_test_scaled[[\n",
    "    'Married Parent Households', 'Single Parent Households', 'Undergrads and Grads',\n",
    "    'Crime Counts', 'walk_score', 'raw_visit_count']].copy()\n",
    "\n",
    "knn = KNeighborsClassifier(n_neighbors = 3)\n",
    "knn.fit(x_train_subset, y_train['Successful Location'])\n",
    "\n",
    "print('This classifier has a recall score of {}'.format(\n",
    "      recall_score(y_train['Successful Location'], knn.predict(x_train_subset))) +\n",
    "      ', a precision score of {}'.format(\n",
    "      precision_score(y_train['Successful Location'], knn.predict(x_train_subset))) +\n",
    "      ', and an area under receiver operating curve score of {:.2f}'.format(\n",
    "      roc_auc_score(y_train['Successful Location'], knn.predict_proba(x_train_subset)[:,1])) +\n",
    "      ' on the training data.')\n",
    "print('This classifier has a recall score of {}'.format(\n",
    "      recall_score(y_test['Successful Location'], knn.predict(x_test_subset))) +\n",
    "      ', a precision score of {}'.format(\n",
    "      precision_score(y_test['Successful Location'], knn.predict(x_test_subset))) +\n",
    "      ', and an area under receiver operating curve score of {:.2f}'.format(\n",
    "      roc_auc_score(y_test['Successful Location'], knn.predict_proba(x_test_subset)[:,1])) +\n",
    "      ' on the test data.')"
   ]
  },
  {
   "cell_type": "markdown",
   "metadata": {},
   "source": [
    "And we get back to a precision of 1 on our test data, but our auc scores are still lacking behind our best models, so we try adding our previously emphasized variables from our best regressor "
   ]
  },
  {
   "cell_type": "code",
   "execution_count": 44,
   "metadata": {
    "scrolled": false
   },
   "outputs": [
    {
     "name": "stdout",
     "output_type": "stream",
     "text": [
      "This classifier has a recall score of 0.6, a precision score of 0.9375, and an area under receiver operating curve score of 0.96 on the training data.\n",
      "This classifier has a recall score of 0.5, a precision score of 1.0, and an area under receiver operating curve score of 0.70 on the test data.\n"
     ]
    }
   ],
   "source": [
    "x_train_subset = x_train_scaled[[\n",
    "    'Married Parent Households', 'Single Parent Households', 'Undergrads and Grads',\n",
    "    'Crime Counts', 'walk_score', 'raw_visit_count', 'Households in Poverty', 'Below 40k Earners']].copy()\n",
    "x_test_subset = x_test_scaled[[\n",
    "    'Married Parent Households', 'Single Parent Households', 'Undergrads and Grads',\n",
    "    'Crime Counts', 'walk_score', 'raw_visit_count', 'Households in Poverty', 'Below 40k Earners']].copy()\n",
    "\n",
    "knn = KNeighborsClassifier(n_neighbors = 3)\n",
    "knn.fit(x_train_subset, y_train['Successful Location'])\n",
    "\n",
    "print('This classifier has a recall score of {}'.format(\n",
    "      recall_score(y_train['Successful Location'], knn.predict(x_train_subset))) +\n",
    "      ', a precision score of {}'.format(\n",
    "      precision_score(y_train['Successful Location'], knn.predict(x_train_subset))) +\n",
    "      ', and an area under receiver operating curve score of {:.2f}'.format(\n",
    "      roc_auc_score(y_train['Successful Location'], knn.predict_proba(x_train_subset)[:,1])) +\n",
    "      ' on the training data.')\n",
    "print('This classifier has a recall score of {}'.format(\n",
    "      recall_score(y_test['Successful Location'], knn.predict(x_test_subset))) +\n",
    "      ', a precision score of {}'.format(\n",
    "      precision_score(y_test['Successful Location'], knn.predict(x_test_subset))) +\n",
    "      ', and an area under receiver operating curve score of {:.2f}'.format(\n",
    "      roc_auc_score(y_test['Successful Location'], knn.predict_proba(x_test_subset)[:,1])) +\n",
    "      ' on the test data.')"
   ]
  },
  {
   "cell_type": "markdown",
   "metadata": {},
   "source": [
    "The notably higher precision on the training data here may actually make this a more preferable model since we emphasize the value of precision, even as our recall falls on our test data, but we're still not beating our gradient boosting model."
   ]
  },
  {
   "cell_type": "markdown",
   "metadata": {},
   "source": [
    "Just for one last point we see if we produce a better model with a union of the linear and gradient boosting variables:"
   ]
  },
  {
   "cell_type": "code",
   "execution_count": 45,
   "metadata": {},
   "outputs": [
    {
     "name": "stdout",
     "output_type": "stream",
     "text": [
      "This classifier has a recall score of 0.4, a precision score of 0.8333333333333334, and an area under receiver operating curve score of 0.94 on the training data.\n",
      "This classifier has a recall score of 0.5, a precision score of 1.0, and an area under receiver operating curve score of 0.70 on the test data.\n"
     ]
    }
   ],
   "source": [
    "x_train_subset = x_train_scaled[[\n",
    "    'Total Population',\n",
    "    'Married Parent Households', 'Single Parent Households', 'Undergrads and Grads',\n",
    "    'Renter Occupied Households', 'Diploma/GED attained', 'Above 100k Earners',\n",
    "    'Crime Counts', 'walk_score', 'transit_score', 'raw_visit_count']].copy()\n",
    "x_test_subset = x_test_scaled[[\n",
    "    'Total Population',\n",
    "    'Married Parent Households', 'Single Parent Households', 'Undergrads and Grads',\n",
    "    'Renter Occupied Households', 'Diploma/GED attained', 'Above 100k Earners',\n",
    "    'Crime Counts', 'walk_score', 'transit_score', 'raw_visit_count']].copy()\n",
    "\n",
    "knn = KNeighborsClassifier(n_neighbors = 3)\n",
    "knn.fit(x_train_subset, y_train['Successful Location'])\n",
    "\n",
    "print('This classifier has a recall score of {}'.format(\n",
    "      recall_score(y_train['Successful Location'], knn.predict(x_train_subset))) +\n",
    "      ', a precision score of {}'.format(\n",
    "      precision_score(y_train['Successful Location'], knn.predict(x_train_subset))) +\n",
    "      ', and an area under receiver operating curve score of {:.2f}'.format(\n",
    "      roc_auc_score(y_train['Successful Location'], knn.predict_proba(x_train_subset)[:,1])) +\n",
    "      ' on the training data.')\n",
    "print('This classifier has a recall score of {}'.format(\n",
    "      recall_score(y_test['Successful Location'], knn.predict(x_test_subset))) +\n",
    "      ', a precision score of {}'.format(\n",
    "      precision_score(y_test['Successful Location'], knn.predict(x_test_subset))) +\n",
    "      ', and an area under receiver operating curve score of {:.2f}'.format(\n",
    "      roc_auc_score(y_test['Successful Location'], knn.predict_proba(x_test_subset)[:,1])) +\n",
    "      ' on the test data.')"
   ]
  },
  {
   "cell_type": "markdown",
   "metadata": {},
   "source": [
    "And we lost on recall scores for both training and test data, so it seem we do better with the gradient boosted chosen variables. We'll keep the better variable set then, and see if we can summarize something more generalizeable from PCA."
   ]
  },
  {
   "cell_type": "code",
   "execution_count": 47,
   "metadata": {
    "scrolled": true
   },
   "outputs": [
    {
     "data": {
      "text/plain": [
       "<BarContainer object of 8 artists>"
      ]
     },
     "execution_count": 47,
     "metadata": {},
     "output_type": "execute_result"
    },
    {
     "data": {
      "image/png": "[encoded data removed]",
      "text/plain": [
       "<Figure size 432x288 with 1 Axes>"
      ]
     },
     "metadata": {
      "needs_background": "light"
     },
     "output_type": "display_data"
    }
   ],
   "source": [
    "# First lets examine contribution to variance\n",
    "# on each component\n",
    "from sklearn.decomposition import PCA\n",
    "\n",
    "x_train_subset = x_train_scaled[[\n",
    "    'Married Parent Households', 'Single Parent Households', 'Undergrads and Grads',\n",
    "    'Crime Counts', 'walk_score', 'raw_visit_count', 'Households in Poverty', 'Below 40k Earners']].copy()\n",
    "x_test_subset = x_test_scaled[[\n",
    "    'Married Parent Households', 'Single Parent Households', 'Undergrads and Grads',\n",
    "    'Crime Counts', 'walk_score', 'raw_visit_count', 'Households in Poverty', 'Below 40k Earners']].copy()\n",
    "\n",
    "pca = PCA()\n",
    "pca.fit(x_train_subset)\n",
    "plt.bar(np.arange(len(pca.explained_variance_ratio_)), pca.explained_variance_ratio_)"
   ]
  },
  {
   "cell_type": "markdown",
   "metadata": {},
   "source": [
    "It seems we have the greatest fall off in explained variance after the 6th component, so we try predicting with this many components, still using the knn classifier which has given us the most success thus far."
   ]
  },
  {
   "cell_type": "code",
   "execution_count": 49,
   "metadata": {},
   "outputs": [
    {
     "name": "stdout",
     "output_type": "stream",
     "text": [
      "This classifier has a recall score of 0.52, a precision score of 0.9285714285714286, and an area under receiver operating curve score of 0.95 on the training data.\n",
      "This classifier has a recall score of 0.5, a precision score of 0.75, and an area under receiver operating curve score of 0.70 on the test data.\n"
     ]
    }
   ],
   "source": [
    "pca = PCA(n_components=6)\n",
    "x_train_pca = pca.fit(x_train_subset)\n",
    "x_train_pca = pca.transform(x_train_subset)\n",
    "x_test_pca = pca.transform(x_test_subset)\n",
    "\n",
    "\n",
    "knn = KNeighborsClassifier(n_neighbors = 3)\n",
    "knn.fit(x_train_pca, y_train['Successful Location'])\n",
    "\n",
    "print('This classifier has a recall score of {}'.format(\n",
    "      recall_score(y_train['Successful Location'], knn.predict(x_train_pca))) +\n",
    "      ', a precision score of {}'.format(\n",
    "      precision_score(y_train['Successful Location'], knn.predict(x_train_pca))) +\n",
    "      ', and an area under receiver operating curve score of {:.2f}'.format(\n",
    "      roc_auc_score(y_train['Successful Location'], knn.predict_proba(x_train_pca)[:,1])) +\n",
    "      ' on the training data.')\n",
    "print('This classifier has a recall score of {}'.format(\n",
    "      recall_score(y_test['Successful Location'], knn.predict(x_test_pca))) +\n",
    "      ', a precision score of {}'.format(\n",
    "      precision_score(y_test['Successful Location'], knn.predict(x_test_pca))) +\n",
    "      ', and an area under receiver operating curve score of {:.2f}'.format(\n",
    "      roc_auc_score(y_test['Successful Location'], knn.predict_proba(x_test_pca)[:,1])) +\n",
    "      ' on the test data.')"
   ]
  },
  {
   "cell_type": "markdown",
   "metadata": {},
   "source": [
    "But a loss in precision turns us away from using PCA for our model."
   ]
  },
  {
   "cell_type": "markdown",
   "metadata": {},
   "source": [
    "Before seeing how we can cluster on various features, we have one more available non linear classification algorithm to try. We'll try a Gaussian NaiveBayes approach on our unscaled data using our two better performing variable subsets that produced our best models above."
   ]
  },
  {
   "cell_type": "code",
   "execution_count": 50,
   "metadata": {},
   "outputs": [
    {
     "name": "stdout",
     "output_type": "stream",
     "text": [
      "This classifier has a recall score of 0.44, a precision score of 0.55, and an area under receiver operating curve score of 0.82 on the training data.\n",
      "This classifier has a recall score of 0.5, a precision score of 0.6, and an area under receiver operating curve score of 0.90 on the test data.\n"
     ]
    }
   ],
   "source": [
    "from sklearn.naive_bayes import GaussianNB\n",
    "\n",
    "x_train_subset = x_train[[\n",
    "    'Total Population', 'Undergrads and Grads',\n",
    "    'Diploma/GED attained', 'Above 100k Earners', 'Crime Counts',\n",
    "    'walk_score', 'transit_score', 'raw_visit_count']].copy()\n",
    "x_test_subset = x_test[[\n",
    "    'Total Population', 'Undergrads and Grads',\n",
    "    'Diploma/GED attained', 'Above 100k Earners', 'Crime Counts',\n",
    "    'walk_score', 'transit_score', 'raw_visit_count']].copy()\n",
    "\n",
    "gnb = GaussianNB()\n",
    "gnb.fit(x_train_subset, y_train['Successful Location'])\n",
    "\n",
    "print('This classifier has a recall score of {}'.format(\n",
    "      recall_score(y_train['Successful Location'], gnb.predict(x_train_subset))) +\n",
    "      ', a precision score of {}'.format(\n",
    "      precision_score(y_train['Successful Location'], gnb.predict(x_train_subset))) +\n",
    "      ', and an area under receiver operating curve score of {:.2f}'.format(\n",
    "      roc_auc_score(y_train['Successful Location'], gnb.predict_proba(x_train_subset)[:,1])) +\n",
    "      ' on the training data.')\n",
    "print('This classifier has a recall score of {}'.format(\n",
    "      recall_score(y_test['Successful Location'], gnb.predict(x_test_subset))) +\n",
    "      ', a precision score of {}'.format(\n",
    "      precision_score(y_test['Successful Location'], gnb.predict(x_test_subset))) +\n",
    "      ', and an area under receiver operating curve score of {:.2f}'.format(\n",
    "      roc_auc_score(y_test['Successful Location'], gnb.predict_proba(x_test_subset)[:,1])) +\n",
    "      ' on the test data.')"
   ]
  },
  {
   "cell_type": "code",
   "execution_count": 51,
   "metadata": {},
   "outputs": [
    {
     "name": "stdout",
     "output_type": "stream",
     "text": [
      "This classifier has a recall score of 0.4, a precision score of 0.5263157894736842, and an area under receiver operating curve score of 0.75 on the training data.\n",
      "This classifier has a recall score of 0.5, a precision score of 0.6, and an area under receiver operating curve score of 0.90 on the test data.\n"
     ]
    }
   ],
   "source": [
    "from sklearn.naive_bayes import GaussianNB\n",
    "\n",
    "x_train_subset = x_train[[\n",
    "    'Married Parent Households', 'Single Parent Households', 'Undergrads and Grads',\n",
    "    'Crime Counts', 'walk_score', 'raw_visit_count']].copy()\n",
    "x_test_subset = x_test[[\n",
    "    'Married Parent Households', 'Single Parent Households', 'Undergrads and Grads',\n",
    "    'Crime Counts', 'walk_score', 'raw_visit_count']].copy()\n",
    "\n",
    "gnb = GaussianNB()\n",
    "gnb.fit(x_train_subset, y_train['Successful Location'])\n",
    "\n",
    "print('This classifier has a recall score of {}'.format(\n",
    "      recall_score(y_train['Successful Location'], gnb.predict(x_train_subset))) +\n",
    "      ', a precision score of {}'.format(\n",
    "      precision_score(y_train['Successful Location'], gnb.predict(x_train_subset))) +\n",
    "      ', and an area under receiver operating curve score of {:.2f}'.format(\n",
    "      roc_auc_score(y_train['Successful Location'], gnb.predict_proba(x_train_subset)[:,1])) +\n",
    "      ' on the training data.')\n",
    "print('This classifier has a recall score of {}'.format(\n",
    "      recall_score(y_test['Successful Location'], gnb.predict(x_test_subset))) +\n",
    "      ', a precision score of {}'.format(\n",
    "      precision_score(y_test['Successful Location'], gnb.predict(x_test_subset))) +\n",
    "      ', and an area under receiver operating curve score of {:.2f}'.format(\n",
    "      roc_auc_score(y_test['Successful Location'], gnb.predict_proba(x_test_subset)[:,1])) +\n",
    "      ' on the test data.')"
   ]
  },
  {
   "cell_type": "markdown",
   "metadata": {},
   "source": [
    "But we simply don't get a good model from the GaussianNB classifiers. At the end a prediction of successful from our RandomForestClassifier with the subset of variables we got from Lasso best predicts successful locations."
   ]
  },
  {
   "cell_type": "markdown",
   "metadata": {},
   "source": [
    "### Unsupervised Learning"
   ]
  },
  {
   "cell_type": "markdown",
   "metadata": {},
   "source": [
    "We now turn to clustering our different Census Block Groups. Our primary interest in this segmentation is to produce clusters where fast food consumption is high, as these will be our target customer segments.\n",
    "\n",
    "We will cluster on the entire data set first and see if any cluster comes out with distinctly higher amounts of successful fast food locations. If so we want to record any other trends we can find in that cluster.\n",
    "\n",
    "We will then follow up clustering on just our best predicting PCA vectors, than map any successful clusters points back to their original observations and again look for trends."
   ]
  },
  {
   "cell_type": "code",
   "execution_count": 42,
   "metadata": {},
   "outputs": [
    {
     "data": {
      "text/plain": [
       "[<matplotlib.lines.Line2D at 0x7fd56ef31610>]"
      ]
     },
     "execution_count": 42,
     "metadata": {},
     "output_type": "execute_result"
    },
    {
     "data": {
      "image/png": "[encoded data removed]",
      "text/plain": [
       "<Figure size 432x288 with 1 Axes>"
      ]
     },
     "metadata": {
      "needs_background": "light"
     },
     "output_type": "display_data"
    }
   ],
   "source": [
    "from sklearn.cluster import KMeans\n",
    "\n",
    "cluster_sses = []\n",
    "for i in range(2,15):\n",
    "    kme = KMeans(n_clusters = i, random_state=42)\n",
    "    kme.fit(x_train)\n",
    "    cluster_sses.append(kme.inertia_)\n",
    "\n",
    "plt.plot(np.arange(2,15), cluster_sses)"
   ]
  },
  {
   "cell_type": "markdown",
   "metadata": {},
   "source": [
    "The steep falls in Sum of Squares to the centroids going from 2 to 4 clusters indicateds there are likely at least this many intrinsic clusterings in the data, while the fall proceeding 4 clusters is much more shallow, so we choose 4 as our cluster count to segment on."
   ]
  },
  {
   "cell_type": "code",
   "execution_count": 43,
   "metadata": {},
   "outputs": [
    {
     "data": {
      "text/html": [
       "<div>\n",
       "<style scoped>\n",
       "    .dataframe tbody tr th:only-of-type {\n",
       "        vertical-align: middle;\n",
       "    }\n",
       "\n",
       "    .dataframe tbody tr th {\n",
       "        vertical-align: top;\n",
       "    }\n",
       "\n",
       "    .dataframe thead th {\n",
       "        text-align: right;\n",
       "    }\n",
       "</style>\n",
       "<table border=\"1\" class=\"dataframe\">\n",
       "  <thead>\n",
       "    <tr style=\"text-align: right;\">\n",
       "      <th>col_0</th>\n",
       "      <th>0</th>\n",
       "      <th>1</th>\n",
       "      <th>2</th>\n",
       "      <th>3</th>\n",
       "    </tr>\n",
       "    <tr>\n",
       "      <th>Successful Location</th>\n",
       "      <th></th>\n",
       "      <th></th>\n",
       "      <th></th>\n",
       "      <th></th>\n",
       "    </tr>\n",
       "  </thead>\n",
       "  <tbody>\n",
       "    <tr>\n",
       "      <td>False</td>\n",
       "      <td>14</td>\n",
       "      <td>0</td>\n",
       "      <td>108</td>\n",
       "      <td>2</td>\n",
       "    </tr>\n",
       "    <tr>\n",
       "      <td>True</td>\n",
       "      <td>7</td>\n",
       "      <td>1</td>\n",
       "      <td>15</td>\n",
       "      <td>2</td>\n",
       "    </tr>\n",
       "  </tbody>\n",
       "</table>\n",
       "</div>"
      ],
      "text/plain": [
       "col_0                 0  1    2  3\n",
       "Successful Location               \n",
       "False                14  0  108  2\n",
       "True                  7  1   15  2"
      ]
     },
     "execution_count": 43,
     "metadata": {},
     "output_type": "execute_result"
    }
   ],
   "source": [
    "kme = KMeans(n_clusters = 4, random_state=42)\n",
    "kme.fit(x_train)\n",
    "ct = pd.crosstab(y_train['Successful Location'], kme.predict(x_train))\n",
    "ct"
   ]
  },
  {
   "cell_type": "code",
   "execution_count": 44,
   "metadata": {
    "scrolled": false
   },
   "outputs": [
    {
     "name": "stdout",
     "output_type": "stream",
     "text": [
      "The expected proportion of successful fast food locations is 0.16778523489932887\n"
     ]
    }
   ],
   "source": [
    "print('The expected proportion of successful fast food locations is {}'.format(\n",
    "    y_train['Successful Location'].sum() / len(y_train)))"
   ]
  },
  {
   "cell_type": "markdown",
   "metadata": {},
   "source": [
    "We do seem to have segmented off populations that are more likely to attract fast food visitors. Lets compare the centers of each population to see if the less successful cluster 2 stands out from the other three variables."
   ]
  },
  {
   "cell_type": "code",
   "execution_count": 45,
   "metadata": {
    "scrolled": true
   },
   "outputs": [
    {
     "data": {
      "text/html": [
       "<div>\n",
       "<style scoped>\n",
       "    .dataframe tbody tr th:only-of-type {\n",
       "        vertical-align: middle;\n",
       "    }\n",
       "\n",
       "    .dataframe tbody tr th {\n",
       "        vertical-align: top;\n",
       "    }\n",
       "\n",
       "    .dataframe thead th {\n",
       "        text-align: right;\n",
       "    }\n",
       "</style>\n",
       "<table border=\"1\" class=\"dataframe\">\n",
       "  <thead>\n",
       "    <tr style=\"text-align: right;\">\n",
       "      <th></th>\n",
       "      <th>Total Population</th>\n",
       "      <th>Pop. that Works from Home</th>\n",
       "      <th>Single Occupant Households</th>\n",
       "      <th>Single Parent Households</th>\n",
       "      <th>Married Parent Households</th>\n",
       "      <th>Undergrads and Grads</th>\n",
       "      <th>Diploma/GED attained</th>\n",
       "      <th>Degree attained</th>\n",
       "      <th>Households in Poverty</th>\n",
       "      <th>Below 40k Earners</th>\n",
       "      <th>40k-100k Earners</th>\n",
       "      <th>Above 100k Earners</th>\n",
       "      <th>Unemployed</th>\n",
       "      <th>Renter Occupied Households</th>\n",
       "      <th>Owner Occupied Households</th>\n",
       "      <th>Crime Counts</th>\n",
       "      <th>walk_score</th>\n",
       "      <th>transit_score</th>\n",
       "      <th>raw_visit_count</th>\n",
       "    </tr>\n",
       "  </thead>\n",
       "  <tbody>\n",
       "    <tr>\n",
       "      <td>0</td>\n",
       "      <td>1510.761905</td>\n",
       "      <td>24.190476</td>\n",
       "      <td>318.714286</td>\n",
       "      <td>29.761905</td>\n",
       "      <td>61.285714</td>\n",
       "      <td>239.238095</td>\n",
       "      <td>296.428571</td>\n",
       "      <td>401.809524</td>\n",
       "      <td>647.380952</td>\n",
       "      <td>292.190476</td>\n",
       "      <td>209.952381</td>\n",
       "      <td>145.238095</td>\n",
       "      <td>56.000000</td>\n",
       "      <td>383.666667</td>\n",
       "      <td>263.714286</td>\n",
       "      <td>370.380952</td>\n",
       "      <td>76.142857</td>\n",
       "      <td>72.190476</td>\n",
       "      <td>1.658243e+05</td>\n",
       "    </tr>\n",
       "    <tr>\n",
       "      <td>1</td>\n",
       "      <td>2451.000000</td>\n",
       "      <td>36.000000</td>\n",
       "      <td>602.000000</td>\n",
       "      <td>0.000000</td>\n",
       "      <td>29.000000</td>\n",
       "      <td>418.000000</td>\n",
       "      <td>558.000000</td>\n",
       "      <td>604.000000</td>\n",
       "      <td>874.000000</td>\n",
       "      <td>432.000000</td>\n",
       "      <td>262.000000</td>\n",
       "      <td>180.000000</td>\n",
       "      <td>119.000000</td>\n",
       "      <td>824.000000</td>\n",
       "      <td>50.000000</td>\n",
       "      <td>1877.000000</td>\n",
       "      <td>99.000000</td>\n",
       "      <td>100.000000</td>\n",
       "      <td>1.875000e+06</td>\n",
       "    </tr>\n",
       "    <tr>\n",
       "      <td>2</td>\n",
       "      <td>1289.178862</td>\n",
       "      <td>19.609756</td>\n",
       "      <td>185.170732</td>\n",
       "      <td>61.479675</td>\n",
       "      <td>56.674797</td>\n",
       "      <td>187.991870</td>\n",
       "      <td>253.430894</td>\n",
       "      <td>231.504065</td>\n",
       "      <td>475.756098</td>\n",
       "      <td>220.227642</td>\n",
       "      <td>168.918699</td>\n",
       "      <td>86.609756</td>\n",
       "      <td>67.357724</td>\n",
       "      <td>235.747967</td>\n",
       "      <td>240.008130</td>\n",
       "      <td>139.252033</td>\n",
       "      <td>81.585366</td>\n",
       "      <td>71.146341</td>\n",
       "      <td>4.548543e+04</td>\n",
       "    </tr>\n",
       "    <tr>\n",
       "      <td>3</td>\n",
       "      <td>1597.750000</td>\n",
       "      <td>85.750000</td>\n",
       "      <td>530.000000</td>\n",
       "      <td>5.500000</td>\n",
       "      <td>39.500000</td>\n",
       "      <td>206.000000</td>\n",
       "      <td>91.500000</td>\n",
       "      <td>949.000000</td>\n",
       "      <td>959.500000</td>\n",
       "      <td>185.750000</td>\n",
       "      <td>372.000000</td>\n",
       "      <td>401.750000</td>\n",
       "      <td>47.750000</td>\n",
       "      <td>545.000000</td>\n",
       "      <td>414.500000</td>\n",
       "      <td>770.250000</td>\n",
       "      <td>94.250000</td>\n",
       "      <td>95.250000</td>\n",
       "      <td>3.606030e+05</td>\n",
       "    </tr>\n",
       "  </tbody>\n",
       "</table>\n",
       "</div>"
      ],
      "text/plain": [
       "   Total Population  Pop. that Works from Home  Single Occupant Households  \\\n",
       "0       1510.761905                  24.190476                  318.714286   \n",
       "1       2451.000000                  36.000000                  602.000000   \n",
       "2       1289.178862                  19.609756                  185.170732   \n",
       "3       1597.750000                  85.750000                  530.000000   \n",
       "\n",
       "   Single Parent Households  Married Parent Households  Undergrads and Grads  \\\n",
       "0                 29.761905                  61.285714            239.238095   \n",
       "1                  0.000000                  29.000000            418.000000   \n",
       "2                 61.479675                  56.674797            187.991870   \n",
       "3                  5.500000                  39.500000            206.000000   \n",
       "\n",
       "   Diploma/GED attained  Degree attained  Households in Poverty  \\\n",
       "0            296.428571       401.809524             647.380952   \n",
       "1            558.000000       604.000000             874.000000   \n",
       "2            253.430894       231.504065             475.756098   \n",
       "3             91.500000       949.000000             959.500000   \n",
       "\n",
       "   Below 40k Earners  40k-100k Earners  Above 100k Earners  Unemployed  \\\n",
       "0         292.190476        209.952381          145.238095   56.000000   \n",
       "1         432.000000        262.000000          180.000000  119.000000   \n",
       "2         220.227642        168.918699           86.609756   67.357724   \n",
       "3         185.750000        372.000000          401.750000   47.750000   \n",
       "\n",
       "   Renter Occupied Households  Owner Occupied Households  Crime Counts  \\\n",
       "0                  383.666667                 263.714286    370.380952   \n",
       "1                  824.000000                  50.000000   1877.000000   \n",
       "2                  235.747967                 240.008130    139.252033   \n",
       "3                  545.000000                 414.500000    770.250000   \n",
       "\n",
       "   walk_score  transit_score  raw_visit_count  \n",
       "0   76.142857      72.190476     1.658243e+05  \n",
       "1   99.000000     100.000000     1.875000e+06  \n",
       "2   81.585366      71.146341     4.548543e+04  \n",
       "3   94.250000      95.250000     3.606030e+05  "
      ]
     },
     "execution_count": 45,
     "metadata": {},
     "output_type": "execute_result"
    }
   ],
   "source": [
    "centers = pd.DataFrame(kme.cluster_centers_)\n",
    "centers.columns = x_train.columns\n",
    "centers"
   ]
  },
  {
   "cell_type": "markdown",
   "metadata": {},
   "source": [
    "Judging cluster 2 as standing out when it is either the highest or lowest in a category, and defining our market segmentation for fast food restaurants as the opposite of cluster 2's position, we arrive at locations where fast food restaurants might have more appeal generally have populations with more:\n",
    "<li>Total Population</li>\n",
    "<li>Population that Works from Home</li>\n",
    "<li>Single Occupant Households</li>\n",
    "<li>Undergrads and Grads</li>\n",
    "<li>Degree Attained</li>\n",
    "<li>Households in Poverty</li>\n",
    "<li>40k-100k Earners</li>\n",
    "<li>Above 100k Earners</li>\n",
    "<li>Renter Occupied Households</li>\n",
    "<li>Crime Counts</li>\n",
    "<li>raw_visit_count</li>\n",
    "\n",
    "and fewer:\n",
    "<li>Single Parent Households</li>\n",
    "\n",
    "But having to keep in mind that our strongest aligned clusters are only 1 and 2 neighborhoods, which is not the sign of a good generalizable model. Lets instead cluster by our former PCA groupings which produced our most generalized model and if we get a better clustering, see what our segments look like then when we take it back to the full variable set."
   ]
  },
  {
   "cell_type": "code",
   "execution_count": 46,
   "metadata": {},
   "outputs": [
    {
     "data": {
      "text/plain": [
       "[<matplotlib.lines.Line2D at 0x7fd56f1049d0>]"
      ]
     },
     "execution_count": 46,
     "metadata": {},
     "output_type": "execute_result"
    },
    {
     "data": {
      "image/png": "[encoded data removed]",
      "text/plain": [
       "<Figure size 432x288 with 1 Axes>"
      ]
     },
     "metadata": {
      "needs_background": "light"
     },
     "output_type": "display_data"
    }
   ],
   "source": [
    "from sklearn.cluster import KMeans\n",
    "\n",
    "cluster_sses = []\n",
    "for i in range(2,10):\n",
    "    kme = KMeans(n_clusters = i, random_state=42)\n",
    "    kme.fit(x_train_pca)\n",
    "    cluster_sses.append(kme.inertia_)\n",
    "\n",
    "plt.plot(np.arange(2,10), cluster_sses)"
   ]
  },
  {
   "cell_type": "code",
   "execution_count": 47,
   "metadata": {},
   "outputs": [
    {
     "data": {
      "text/html": [
       "<div>\n",
       "<style scoped>\n",
       "    .dataframe tbody tr th:only-of-type {\n",
       "        vertical-align: middle;\n",
       "    }\n",
       "\n",
       "    .dataframe tbody tr th {\n",
       "        vertical-align: top;\n",
       "    }\n",
       "\n",
       "    .dataframe thead th {\n",
       "        text-align: right;\n",
       "    }\n",
       "</style>\n",
       "<table border=\"1\" class=\"dataframe\">\n",
       "  <thead>\n",
       "    <tr style=\"text-align: right;\">\n",
       "      <th>col_0</th>\n",
       "      <th>0</th>\n",
       "      <th>1</th>\n",
       "      <th>2</th>\n",
       "      <th>3</th>\n",
       "      <th>4</th>\n",
       "      <th>5</th>\n",
       "    </tr>\n",
       "    <tr>\n",
       "      <th>Successful Location</th>\n",
       "      <th></th>\n",
       "      <th></th>\n",
       "      <th></th>\n",
       "      <th></th>\n",
       "      <th></th>\n",
       "      <th></th>\n",
       "    </tr>\n",
       "  </thead>\n",
       "  <tbody>\n",
       "    <tr>\n",
       "      <td>False</td>\n",
       "      <td>16</td>\n",
       "      <td>14</td>\n",
       "      <td>64</td>\n",
       "      <td>29</td>\n",
       "      <td>0</td>\n",
       "      <td>1</td>\n",
       "    </tr>\n",
       "    <tr>\n",
       "      <td>True</td>\n",
       "      <td>4</td>\n",
       "      <td>2</td>\n",
       "      <td>9</td>\n",
       "      <td>2</td>\n",
       "      <td>2</td>\n",
       "      <td>6</td>\n",
       "    </tr>\n",
       "  </tbody>\n",
       "</table>\n",
       "</div>"
      ],
      "text/plain": [
       "col_0                 0   1   2   3  4  5\n",
       "Successful Location                      \n",
       "False                16  14  64  29  0  1\n",
       "True                  4   2   9   2  2  6"
      ]
     },
     "execution_count": 47,
     "metadata": {},
     "output_type": "execute_result"
    }
   ],
   "source": [
    "kme = KMeans(n_clusters = 6, random_state=42)\n",
    "kme.fit(x_train_pca)\n",
    "ct = pd.crosstab(y_train['Successful Location'], kme.predict(x_train_pca))\n",
    "ct"
   ]
  },
  {
   "cell_type": "markdown",
   "metadata": {},
   "source": [
    "Here Cluster 5 looks like it will be a more trustworthy indicator of what makes an area attractive to fast food, so we'll align our original training set with these clusters and see if the in cluster means stand out for cluster 5 and 4."
   ]
  },
  {
   "cell_type": "code",
   "execution_count": 48,
   "metadata": {
    "scrolled": false
   },
   "outputs": [
    {
     "data": {
      "text/html": [
       "<div>\n",
       "<style scoped>\n",
       "    .dataframe tbody tr th:only-of-type {\n",
       "        vertical-align: middle;\n",
       "    }\n",
       "\n",
       "    .dataframe tbody tr th {\n",
       "        vertical-align: top;\n",
       "    }\n",
       "\n",
       "    .dataframe thead th {\n",
       "        text-align: right;\n",
       "    }\n",
       "</style>\n",
       "<table border=\"1\" class=\"dataframe\">\n",
       "  <thead>\n",
       "    <tr style=\"text-align: right;\">\n",
       "      <th></th>\n",
       "      <th>Total Population</th>\n",
       "      <th>Pop. that Works from Home</th>\n",
       "      <th>Single Occupant Households</th>\n",
       "      <th>Single Parent Households</th>\n",
       "      <th>Married Parent Households</th>\n",
       "      <th>Undergrads and Grads</th>\n",
       "      <th>Diploma/GED attained</th>\n",
       "      <th>Degree attained</th>\n",
       "      <th>Households in Poverty</th>\n",
       "      <th>Below 40k Earners</th>\n",
       "      <th>40k-100k Earners</th>\n",
       "      <th>Above 100k Earners</th>\n",
       "      <th>Unemployed</th>\n",
       "      <th>Renter Occupied Households</th>\n",
       "      <th>Owner Occupied Households</th>\n",
       "      <th>Crime Counts</th>\n",
       "      <th>walk_score</th>\n",
       "      <th>transit_score</th>\n",
       "      <th>raw_visit_count</th>\n",
       "    </tr>\n",
       "    <tr>\n",
       "      <th>cluster</th>\n",
       "      <th></th>\n",
       "      <th></th>\n",
       "      <th></th>\n",
       "      <th></th>\n",
       "      <th></th>\n",
       "      <th></th>\n",
       "      <th></th>\n",
       "      <th></th>\n",
       "      <th></th>\n",
       "      <th></th>\n",
       "      <th></th>\n",
       "      <th></th>\n",
       "      <th></th>\n",
       "      <th></th>\n",
       "      <th></th>\n",
       "      <th></th>\n",
       "      <th></th>\n",
       "      <th></th>\n",
       "      <th></th>\n",
       "    </tr>\n",
       "  </thead>\n",
       "  <tbody>\n",
       "    <tr>\n",
       "      <td>0</td>\n",
       "      <td>1806.450000</td>\n",
       "      <td>22.900000</td>\n",
       "      <td>277.500000</td>\n",
       "      <td>46.400000</td>\n",
       "      <td>133.800000</td>\n",
       "      <td>103.550000</td>\n",
       "      <td>484.350000</td>\n",
       "      <td>337.900000</td>\n",
       "      <td>751.750000</td>\n",
       "      <td>288.550000</td>\n",
       "      <td>315.250000</td>\n",
       "      <td>147.950000</td>\n",
       "      <td>81.950000</td>\n",
       "      <td>307.400000</td>\n",
       "      <td>444.350000</td>\n",
       "      <td>142.450000</td>\n",
       "      <td>55.550000</td>\n",
       "      <td>52.800000</td>\n",
       "      <td>6.458595e+04</td>\n",
       "    </tr>\n",
       "    <tr>\n",
       "      <td>1</td>\n",
       "      <td>1556.250000</td>\n",
       "      <td>53.625000</td>\n",
       "      <td>514.312500</td>\n",
       "      <td>11.937500</td>\n",
       "      <td>43.062500</td>\n",
       "      <td>310.125000</td>\n",
       "      <td>159.000000</td>\n",
       "      <td>721.000000</td>\n",
       "      <td>881.312500</td>\n",
       "      <td>301.250000</td>\n",
       "      <td>276.875000</td>\n",
       "      <td>303.187500</td>\n",
       "      <td>50.437500</td>\n",
       "      <td>637.562500</td>\n",
       "      <td>243.750000</td>\n",
       "      <td>372.812500</td>\n",
       "      <td>96.937500</td>\n",
       "      <td>93.375000</td>\n",
       "      <td>1.649044e+05</td>\n",
       "    </tr>\n",
       "    <tr>\n",
       "      <td>2</td>\n",
       "      <td>958.054795</td>\n",
       "      <td>15.301370</td>\n",
       "      <td>143.013699</td>\n",
       "      <td>34.410959</td>\n",
       "      <td>45.013699</td>\n",
       "      <td>93.575342</td>\n",
       "      <td>205.246575</td>\n",
       "      <td>211.767123</td>\n",
       "      <td>369.301370</td>\n",
       "      <td>162.000000</td>\n",
       "      <td>131.479452</td>\n",
       "      <td>75.821918</td>\n",
       "      <td>53.643836</td>\n",
       "      <td>170.260274</td>\n",
       "      <td>199.041096</td>\n",
       "      <td>119.041096</td>\n",
       "      <td>83.863014</td>\n",
       "      <td>71.890411</td>\n",
       "      <td>5.123564e+04</td>\n",
       "    </tr>\n",
       "    <tr>\n",
       "      <td>3</td>\n",
       "      <td>1625.354839</td>\n",
       "      <td>9.483871</td>\n",
       "      <td>191.741935</td>\n",
       "      <td>145.580645</td>\n",
       "      <td>54.741935</td>\n",
       "      <td>96.967742</td>\n",
       "      <td>326.967742</td>\n",
       "      <td>153.032258</td>\n",
       "      <td>548.903226</td>\n",
       "      <td>332.419355</td>\n",
       "      <td>170.096774</td>\n",
       "      <td>46.387097</td>\n",
       "      <td>94.612903</td>\n",
       "      <td>279.806452</td>\n",
       "      <td>269.096774</td>\n",
       "      <td>233.645161</td>\n",
       "      <td>81.677419</td>\n",
       "      <td>68.548387</td>\n",
       "      <td>5.352410e+04</td>\n",
       "    </tr>\n",
       "    <tr>\n",
       "      <td>4</td>\n",
       "      <td>2210.500000</td>\n",
       "      <td>59.000000</td>\n",
       "      <td>784.500000</td>\n",
       "      <td>0.000000</td>\n",
       "      <td>26.500000</td>\n",
       "      <td>334.000000</td>\n",
       "      <td>348.500000</td>\n",
       "      <td>976.000000</td>\n",
       "      <td>1154.500000</td>\n",
       "      <td>384.000000</td>\n",
       "      <td>491.000000</td>\n",
       "      <td>279.500000</td>\n",
       "      <td>78.500000</td>\n",
       "      <td>768.500000</td>\n",
       "      <td>386.000000</td>\n",
       "      <td>1819.500000</td>\n",
       "      <td>99.500000</td>\n",
       "      <td>100.000000</td>\n",
       "      <td>1.182032e+06</td>\n",
       "    </tr>\n",
       "    <tr>\n",
       "      <td>5</td>\n",
       "      <td>1909.000000</td>\n",
       "      <td>64.857143</td>\n",
       "      <td>65.571429</td>\n",
       "      <td>9.285714</td>\n",
       "      <td>6.285714</td>\n",
       "      <td>1693.000000</td>\n",
       "      <td>39.142857</td>\n",
       "      <td>123.428571</td>\n",
       "      <td>200.714286</td>\n",
       "      <td>129.857143</td>\n",
       "      <td>49.714286</td>\n",
       "      <td>21.142857</td>\n",
       "      <td>45.571429</td>\n",
       "      <td>152.714286</td>\n",
       "      <td>48.000000</td>\n",
       "      <td>211.142857</td>\n",
       "      <td>85.000000</td>\n",
       "      <td>89.285714</td>\n",
       "      <td>1.001040e+05</td>\n",
       "    </tr>\n",
       "  </tbody>\n",
       "</table>\n",
       "</div>"
      ],
      "text/plain": [
       "         Total Population  Pop. that Works from Home  \\\n",
       "cluster                                                \n",
       "0             1806.450000                  22.900000   \n",
       "1             1556.250000                  53.625000   \n",
       "2              958.054795                  15.301370   \n",
       "3             1625.354839                   9.483871   \n",
       "4             2210.500000                  59.000000   \n",
       "5             1909.000000                  64.857143   \n",
       "\n",
       "         Single Occupant Households  Single Parent Households  \\\n",
       "cluster                                                         \n",
       "0                        277.500000                 46.400000   \n",
       "1                        514.312500                 11.937500   \n",
       "2                        143.013699                 34.410959   \n",
       "3                        191.741935                145.580645   \n",
       "4                        784.500000                  0.000000   \n",
       "5                         65.571429                  9.285714   \n",
       "\n",
       "         Married Parent Households  Undergrads and Grads  \\\n",
       "cluster                                                    \n",
       "0                       133.800000            103.550000   \n",
       "1                        43.062500            310.125000   \n",
       "2                        45.013699             93.575342   \n",
       "3                        54.741935             96.967742   \n",
       "4                        26.500000            334.000000   \n",
       "5                         6.285714           1693.000000   \n",
       "\n",
       "         Diploma/GED attained  Degree attained  Households in Poverty  \\\n",
       "cluster                                                                 \n",
       "0                  484.350000       337.900000             751.750000   \n",
       "1                  159.000000       721.000000             881.312500   \n",
       "2                  205.246575       211.767123             369.301370   \n",
       "3                  326.967742       153.032258             548.903226   \n",
       "4                  348.500000       976.000000            1154.500000   \n",
       "5                   39.142857       123.428571             200.714286   \n",
       "\n",
       "         Below 40k Earners  40k-100k Earners  Above 100k Earners  Unemployed  \\\n",
       "cluster                                                                        \n",
       "0               288.550000        315.250000          147.950000   81.950000   \n",
       "1               301.250000        276.875000          303.187500   50.437500   \n",
       "2               162.000000        131.479452           75.821918   53.643836   \n",
       "3               332.419355        170.096774           46.387097   94.612903   \n",
       "4               384.000000        491.000000          279.500000   78.500000   \n",
       "5               129.857143         49.714286           21.142857   45.571429   \n",
       "\n",
       "         Renter Occupied Households  Owner Occupied Households  Crime Counts  \\\n",
       "cluster                                                                        \n",
       "0                        307.400000                 444.350000    142.450000   \n",
       "1                        637.562500                 243.750000    372.812500   \n",
       "2                        170.260274                 199.041096    119.041096   \n",
       "3                        279.806452                 269.096774    233.645161   \n",
       "4                        768.500000                 386.000000   1819.500000   \n",
       "5                        152.714286                  48.000000    211.142857   \n",
       "\n",
       "         walk_score  transit_score  raw_visit_count  \n",
       "cluster                                              \n",
       "0         55.550000      52.800000     6.458595e+04  \n",
       "1         96.937500      93.375000     1.649044e+05  \n",
       "2         83.863014      71.890411     5.123564e+04  \n",
       "3         81.677419      68.548387     5.352410e+04  \n",
       "4         99.500000     100.000000     1.182032e+06  \n",
       "5         85.000000      89.285714     1.001040e+05  "
      ]
     },
     "execution_count": 48,
     "metadata": {},
     "output_type": "execute_result"
    }
   ],
   "source": [
    "pca_cluster = x_train.copy()\n",
    "pca_cluster['cluster'] = kme.predict(x_train_pca)\n",
    "pca_cluster.groupby('cluster').mean()"
   ]
  },
  {
   "cell_type": "markdown",
   "metadata": {},
   "source": [
    "Assuming we have two distinct clusterings, first we can look at the clustering for cluster 5 and determine that the description of one of our target segment neighborhoods is that it:\n",
    "Has a high count of:\n",
    "<li>Population that Works from Home</li>\n",
    "<li>Undergrads and Grads</li>\n",
    "    \n",
    "And low count of:\n",
    "<li>Single Occupant Households</li>\n",
    "<li>Single Parent Households</li>\n",
    "<li>Married Parent Households</li>\n",
    "<li>Diploma/GED as Highest Educational Attainment</li>\n",
    "<li>Households in Poverty</li>\n",
    "<li>Income Earners of any Tier</li>\n",
    "<li>Owner Occupied Households</li>\n",
    "\n",
    "Which all correlates fairly well with a high population of higher education students.\n",
    "\n",
    "Meanwhile Cluster 4 identifies another successful segment of neighborhoods as characterized by\n",
    "(and being mindful of higher population against which cluster charicterizations should be weighed)\n",
    "High:\n",
    "<li>Single Occupant Households</li>\n",
    "<li>Degree attained population</li>\n",
    "<li>Households in Poverty</li>\n",
    "<li>40-100k Earners</li>\n",
    "<li>Renter Occupied Households</li>\n",
    "<li>Crime Counts</li>\n",
    "<li>Walk Score</li>\n",
    "<li>transit_score</li>\n",
    "<li>raw_visit_count</li>\n",
    "\n",
    "Low:\n",
    "<li>Single Parent Households</li>\n",
    "<li>Married Parent Households</li>\n",
    "\n",
    "Which largely correlates with downtown. And we can summarize both market segments as:\n",
    "<li>Located Downtown OR near Universities</li>\n",
    "<li>Located in areas with high amounts of Single Occupant Households</li>\n",
    "<li>Located in areas with low amounts of families</li>"
   ]
  },
  {
   "cell_type": "markdown",
   "metadata": {},
   "source": [
    "And having discovered clusters via KMeans we would also like to try hiearchichal clustering which can capture varying shapes of clusters which kMeans does not always excel at. Since we are trying to capture shapes that may not exactly cluster about their means, we'll need another way to determine cluster count besides sum of square residuals. We choose to plot our points using SNE and see if we can observe any particular groupings."
   ]
  },
  {
   "cell_type": "code",
   "execution_count": 49,
   "metadata": {},
   "outputs": [
    {
     "data": {
      "text/plain": [
       "<matplotlib.collections.PathCollection at 0x7fd56ee25610>"
      ]
     },
     "execution_count": 49,
     "metadata": {},
     "output_type": "execute_result"
    },
    {
     "data": {
      "image/png": "[encoded data removed]",
      "text/plain": [
       "<Figure size 432x288 with 1 Axes>"
      ]
     },
     "metadata": {
      "needs_background": "light"
     },
     "output_type": "display_data"
    }
   ],
   "source": [
    "from sklearn.manifold import TSNE\n",
    "\n",
    "tsne = TSNE(random_state=42)\n",
    "x_train_sne = tsne.fit_transform(x_train)\n",
    "\n",
    "plt.scatter(x_train_sne[:,0], x_train_sne[:,1])"
   ]
  },
  {
   "cell_type": "markdown",
   "metadata": {},
   "source": [
    "There aren't clear groupings in this examination, but going by larger gaps of white space it appears there are about 5 clusters, so we'll feed this to our agglomerative clustering."
   ]
  },
  {
   "cell_type": "code",
   "execution_count": 50,
   "metadata": {
    "scrolled": true
   },
   "outputs": [
    {
     "data": {
      "text/html": [
       "<div>\n",
       "<style scoped>\n",
       "    .dataframe tbody tr th:only-of-type {\n",
       "        vertical-align: middle;\n",
       "    }\n",
       "\n",
       "    .dataframe tbody tr th {\n",
       "        vertical-align: top;\n",
       "    }\n",
       "\n",
       "    .dataframe thead th {\n",
       "        text-align: right;\n",
       "    }\n",
       "</style>\n",
       "<table border=\"1\" class=\"dataframe\">\n",
       "  <thead>\n",
       "    <tr style=\"text-align: right;\">\n",
       "      <th>col_0</th>\n",
       "      <th>0</th>\n",
       "      <th>1</th>\n",
       "      <th>2</th>\n",
       "      <th>3</th>\n",
       "      <th>4</th>\n",
       "    </tr>\n",
       "    <tr>\n",
       "      <th>Successful Location</th>\n",
       "      <th></th>\n",
       "      <th></th>\n",
       "      <th></th>\n",
       "      <th></th>\n",
       "      <th></th>\n",
       "    </tr>\n",
       "  </thead>\n",
       "  <tbody>\n",
       "    <tr>\n",
       "      <td>False</td>\n",
       "      <td>106</td>\n",
       "      <td>11</td>\n",
       "      <td>7</td>\n",
       "      <td>0</td>\n",
       "      <td>0</td>\n",
       "    </tr>\n",
       "    <tr>\n",
       "      <td>True</td>\n",
       "      <td>13</td>\n",
       "      <td>7</td>\n",
       "      <td>3</td>\n",
       "      <td>1</td>\n",
       "      <td>1</td>\n",
       "    </tr>\n",
       "  </tbody>\n",
       "</table>\n",
       "</div>"
      ],
      "text/plain": [
       "col_0                  0   1  2  3  4\n",
       "Successful Location                  \n",
       "False                106  11  7  0  0\n",
       "True                  13   7  3  1  1"
      ]
     },
     "execution_count": 50,
     "metadata": {},
     "output_type": "execute_result"
    }
   ],
   "source": [
    "from sklearn.cluster import AgglomerativeClustering\n",
    "\n",
    "\n",
    "ac = AgglomerativeClustering(n_clusters = 5, linkage='ward')\n",
    "ct = pd.crosstab(y_train['Successful Location'], ac.fit_predict(x_train))\n",
    "ct"
   ]
  },
  {
   "cell_type": "markdown",
   "metadata": {},
   "source": [
    "But this scheme fails to seperate out any predominantly Successful segmentation, so we are inclined to settle on our prior kmeans clusters as the best indicator for our customer segmentation. First however we will try one more clustering algorithm that may identify different cluster shapes, we'll do a run with DBSCAN and we'll use adjusted_rand_score to rate different parameters for our implementation."
   ]
  },
  {
   "cell_type": "code",
   "execution_count": 55,
   "metadata": {},
   "outputs": [
    {
     "name": "stdout",
     "output_type": "stream",
     "text": [
      "eps: 0.1, cluster_count: 0, rand_score: 1.0\n",
      "eps: 0.2, cluster_count: 0, rand_score: 1.0\n",
      "eps: 0.30000000000000004, cluster_count: 0, rand_score: 1.0\n",
      "eps: 0.4, cluster_count: 0, rand_score: 1.0\n",
      "eps: 0.5, cluster_count: 0, rand_score: 1.0\n",
      "eps: 0.6, cluster_count: 1, rand_score: 1.0\n",
      "eps: 0.7000000000000001, cluster_count: 2, rand_score: -0.051546391752577345\n",
      "eps: 0.8, cluster_count: 2, rand_score: -0.03125\n",
      "eps: 0.9, cluster_count: 2, rand_score: -0.012124669128998936\n",
      "eps: 1.0, cluster_count: 1, rand_score: 1.0\n",
      "eps: 1.1, cluster_count: 1, rand_score: 1.0\n",
      "eps: 1.2000000000000002, cluster_count: 1, rand_score: 1.0\n",
      "eps: 1.3000000000000003, cluster_count: 1, rand_score: 1.0\n",
      "eps: 1.4000000000000001, cluster_count: 1, rand_score: 1.0\n",
      "eps: 1.5000000000000002, cluster_count: 1, rand_score: 1.0\n",
      "eps: 1.6, cluster_count: 1, rand_score: 1.0\n",
      "eps: 1.7000000000000002, cluster_count: 1, rand_score: 1.0\n",
      "eps: 1.8000000000000003, cluster_count: 1, rand_score: 1.0\n",
      "eps: 1.9000000000000001, cluster_count: 1, rand_score: 1.0\n"
     ]
    }
   ],
   "source": [
    "from sklearn.cluster import DBSCAN\n",
    "from sklearn.metrics.cluster import adjusted_rand_score\n",
    "from numpy.random import RandomState\n",
    "\n",
    "rand_state = RandomState(seed=42)\n",
    "\n",
    "for i in np.arange(0.1,2,0.1):\n",
    "    dbs = DBSCAN(eps=i)\n",
    "    pred = dbs.fit_predict(x_train_pca)\n",
    "    pred = pred[pred != -1] # remove noise points\n",
    "    cluster_count = len(np.unique(pred))\n",
    "    rand_clustering = rand_state.randint(low=0, high=cluster_count, size=len(pred))\n",
    "    print(\"eps: {}, cluster_count: {}, rand_score: {}\".format(\n",
    "        i, cluster_count, adjusted_rand_score(pred, rand_clustering)))\n"
   ]
  },
  {
   "cell_type": "markdown",
   "metadata": {},
   "source": [
    "But our rand scores are negative even for runs where we achieve a clustering, so we should continue to stick with kmeans."
   ]
  }
 ],
 "metadata": {
  "kernelspec": {
   "display_name": "Python [conda env:root] *",
   "language": "python",
   "name": "conda-root-py"
  },
  "language_info": {
   "codemirror_mode": {
    "name": "ipython",
    "version": 3
   },
   "file_extension": ".py",
   "mimetype": "text/x-python",
   "name": "python",
   "nbconvert_exporter": "python",
   "pygments_lexer": "ipython3",
   "version": "3.7.4"
  }
 },
 "nbformat": 4,
 "nbformat_minor": 2
}
