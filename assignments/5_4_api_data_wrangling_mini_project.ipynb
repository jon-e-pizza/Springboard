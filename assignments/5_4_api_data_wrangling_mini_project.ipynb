{
 "cells": [
  {
   "cell_type": "markdown",
   "metadata": {},
   "source": [
    "This exercise will require you to pull some data from the Qunadl API. Qaundl is currently the most widely used aggregator of financial market data."
   ]
  },
  {
   "cell_type": "markdown",
   "metadata": {},
   "source": [
    "As a first step, you will need to register a free account on the http://www.quandl.com website."
   ]
  },
  {
   "cell_type": "markdown",
   "metadata": {},
   "source": [
    "After you register, you will be provided with a unique API key, that you should store:"
   ]
  },
  {
   "cell_type": "code",
   "execution_count": 2,
   "metadata": {},
   "outputs": [],
   "source": [
    "# Store the API key as a string - according to PEP8, constants are always named in all upper case\n",
    "API_KEY = ''"
   ]
  },
  {
   "cell_type": "markdown",
   "metadata": {},
   "source": [
    "Qaundl has a large number of data sources, but, unfortunately, most of them require a Premium subscription. Still, there are also a good number of free datasets."
   ]
  },
  {
   "cell_type": "markdown",
   "metadata": {},
   "source": [
    "For this mini project, we will focus on equities data from the Frankfurt Stock Exhange (FSE), which is available for free. We'll try and analyze the stock prices of a company called Carl Zeiss Meditec, which manufactures tools for eye examinations, as well as medical lasers for laser eye surgery: https://www.zeiss.com/meditec/int/home.html. The company is listed under the stock ticker AFX_X."
   ]
  },
  {
   "cell_type": "markdown",
   "metadata": {},
   "source": [
    "You can find the detailed Quandl API instructions here: https://docs.quandl.com/docs/time-series"
   ]
  },
  {
   "cell_type": "markdown",
   "metadata": {},
   "source": [
    "While there is a dedicated Python package for connecting to the Quandl API, we would prefer that you use the *requests* package, which can be easily downloaded using *pip* or *conda*. You can find the documentation for the package here: http://docs.python-requests.org/en/master/ "
   ]
  },
  {
   "cell_type": "markdown",
   "metadata": {},
   "source": [
    "Finally, apart from the *requests* package, you are encouraged to not use any third party Python packages, such as *pandas*, and instead focus on what's available in the Python Standard Library (the *collections* module might come in handy: https://pymotw.com/3/collections/ ).\n",
    "Also, since you won't have access to DataFrames, you are encouraged to us Python's native data structures - preferably dictionaries, though some questions can also be answered using lists.\n",
    "You can read more on these data structures here: https://docs.python.org/3/tutorial/datastructures.html"
   ]
  },
  {
   "cell_type": "markdown",
   "metadata": {},
   "source": [
    "Keep in mind that the JSON responses you will be getting from the API map almost one-to-one to Python's dictionaries. Unfortunately, they can be very nested, so make sure you read up on indexing dictionaries in the documentation provided above."
   ]
  },
  {
   "cell_type": "code",
   "execution_count": 3,
   "metadata": {},
   "outputs": [],
   "source": [
    "# First, import the relevant modules\n",
    "import requests\n"
   ]
  },
  {
   "cell_type": "code",
   "execution_count": 4,
   "metadata": {},
   "outputs": [],
   "source": [
    "# Now, call the Quandl API and pull out a small sample of the data (only one day) to get a glimpse\n",
    "# into the JSON structure that will be returned\n",
    "resp = requests.get('https://www.quandl.com/api/v3/datasets/FSE/EON_X'\n",
    "                    +'?start_date=2019-10-25'\n",
    "                    +'&end_date=2019-10-25'\n",
    "                    +'&api_key={}'.format(API_KEY))\n",
    "day = resp.json()"
   ]
  },
  {
   "cell_type": "code",
   "execution_count": 5,
   "metadata": {},
   "outputs": [
    {
     "name": "stdout",
     "output_type": "stream",
     "text": [
      "<class 'dict'>\n",
      "dict_keys(['dataset'])\n",
      "<class 'dict'>\n",
      "dict_keys(['id', 'dataset_code', 'database_code', 'name', 'description', 'refreshed_at', 'newest_available_date', 'oldest_available_date', 'column_names', 'frequency', 'type', 'premium', 'limit', 'transform', 'column_index', 'start_date', 'end_date', 'data', 'collapse', 'order', 'database_id'])\n",
      "<class 'list'>\n",
      "['2019-10-25', 8.928, 9.007, 8.881, 8.912, None, 5028968.0, 44958244.0, None, None, None]\n",
      "['Date', 'Open', 'High', 'Low', 'Close', 'Change', 'Traded Volume', 'Turnover', 'Last Price of the Day', 'Daily Traded Units', 'Daily Turnover']\n"
     ]
    }
   ],
   "source": [
    "# Inspect the JSON structure of the object you created, and take note of how nested it is,\n",
    "# as well as the overall structure\n",
    "\n",
    "print(type(day))\n",
    "print(day.keys())\n",
    "\n",
    "print(type(day['dataset']))\n",
    "print(day['dataset'].keys())\n",
    "\n",
    "print(type(day['dataset']['data']))\n",
    "print(day['dataset']['data'][0])\n",
    "\n",
    "print(day['dataset']['column_names'])"
   ]
  },
  {
   "cell_type": "markdown",
   "metadata": {},
   "source": [
    "These are your tasks for this mini project:"
   ]
  },
  {
   "cell_type": "code",
   "execution_count": 6,
   "metadata": {},
   "outputs": [],
   "source": [
    "# 1. Collect data from the Franfurt Stock Exchange, for the ticker\n",
    "# AFX_X, for the whole year 2017 (keep in mind that the date format\n",
    "# is YYYY-MM-DD).\n",
    "\n",
    "resp = requests.get('https://www.quandl.com/api/v3/datasets/FSE/AFX_X'\n",
    "                    +'?start_date=2017-01-01'\n",
    "                    +'&end_date=2017-12-31'\n",
    "                    +'&api_key={}'.format(API_KEY))"
   ]
  },
  {
   "cell_type": "code",
   "execution_count": 7,
   "metadata": {},
   "outputs": [],
   "source": [
    "# 2. Convert the returned JSON object into a Python dictionary.\n",
    "\n",
    "afx_x_2017 = resp.json()['dataset']"
   ]
  },
  {
   "cell_type": "code",
   "execution_count": 14,
   "metadata": {
    "scrolled": true
   },
   "outputs": [
    {
     "name": "stdout",
     "output_type": "stream",
     "text": [
      "The highest opening price in this period was 53.11\n",
      "The lowest opening price in this period was 34.00\n"
     ]
    }
   ],
   "source": [
    "# 3. Calculate what the highest and lowest opening prices were for\n",
    "# the stock in this period.\n",
    "\n",
    "def open_price(day_data):\n",
    "    return day_data[1]\n",
    "\n",
    "open_prices = [\n",
    "    open_price(day) for day in afx_x_2017['data'] if open_price(day)]\n",
    "    \n",
    "print('The highest opening price in this period was {:.2f}'.format(\n",
    "    max(open_prices)))\n",
    "print('The lowest opening price in this period was {:.2f}'.format(\n",
    "    min(open_prices)))"
   ]
  },
  {
   "cell_type": "code",
   "execution_count": 15,
   "metadata": {},
   "outputs": [
    {
     "name": "stdout",
     "output_type": "stream",
     "text": [
      "The largest single day change was 2.81\n"
     ]
    }
   ],
   "source": [
    "# 4. What was the largest change in any one day (based on High and\n",
    "# Low price)?\n",
    "\n",
    "def day_change(day_data):\n",
    "    if day_data[2] and day_data[3]:\n",
    "        return day_data[2] - day_data[3]\n",
    "    else:\n",
    "        return None\n",
    "\n",
    "changes = [\n",
    "    day_change(day) for day in afx_x_2017['data'] if day_change(day)]\n",
    "\n",
    "print('The largest single day change was {:.2f}'.format(max(changes)))"
   ]
  },
  {
   "cell_type": "code",
   "execution_count": 10,
   "metadata": {},
   "outputs": [
    {
     "name": "stdout",
     "output_type": "stream",
     "text": [
      "The largest change between two days was 2.28\n"
     ]
    }
   ],
   "source": [
    "# 5. What was the largest change between any two days (based on Closing\n",
    "# Price)?\n",
    "\n",
    "def close_price(day_data):\n",
    "    return day_data[4]\n",
    "\n",
    "changes = []\n",
    "data = afx_x_2017['data']\n",
    "for i in range(len(data) - 2):\n",
    "    if close_price(data[i]) and close_price(data[i+2]):\n",
    "        changes.append(close_price(data[i]) - close_price(data[i+2])\n",
    "print('The largest change between two days was {:.2f}'.format(max(changes)))"
   ]
  },
  {
   "cell_type": "code",
   "execution_count": 17,
   "metadata": {},
   "outputs": [
    {
     "name": "stdout",
     "output_type": "stream",
     "text": [
      "The average daily volume traded was 89124.33725490196\n"
     ]
    }
   ],
   "source": [
    "# 6. What was the average daily trading volume during this year?\n",
    "\n",
    "def daily_volume(day_data):\n",
    "    return day_data[6]\n",
    "\n",
    "daily_volume = [\n",
    "    daily_volume(day) for day in afx_x_2017['data'] if daily_volume(day)]\n",
    "        \n",
    "print('The average daily volume traded was {}'.format(\n",
    "    sum(daily_volume) / len(daily_volume)))"
   ]
  },
  {
   "cell_type": "code",
   "execution_count": 12,
   "metadata": {},
   "outputs": [
    {
     "name": "stdout",
     "output_type": "stream",
     "text": [
      "The median trading volume was 76286.0\n"
     ]
    }
   ],
   "source": [
    "# 7. (Optional) What was the median trading volume during this year.\n",
    "# (Note: you may need to implement your own function for calculating\n",
    "# the median.)\n",
    "\n",
    "def median(nums):\n",
    "    sorted_nums = nums.sort()\n",
    "    length = len(nums)\n",
    "    if (length % 2 == 1):\n",
    "        return nums[int(length / 2)]\n",
    "    else:\n",
    "        return (nums[length / 2] + nums[(length / 2) - 1]) / 2\n",
    "    \n",
    "print('The median trading volume was {}'.format(median(daily_volume)))"
   ]
  }
 ],
 "metadata": {
  "kernelspec": {
   "display_name": "Python 3",
   "language": "python",
   "name": "python3"
  },
  "language_info": {
   "codemirror_mode": {
    "name": "ipython",
    "version": 3
   },
   "file_extension": ".py",
   "mimetype": "text/x-python",
   "name": "python",
   "nbconvert_exporter": "python",
   "pygments_lexer": "ipython3",
   "version": "3.7.3"
  }
 },
 "nbformat": 4,
 "nbformat_minor": 2
}
